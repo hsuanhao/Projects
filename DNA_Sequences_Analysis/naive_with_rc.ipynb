{
 "cells": [
  {
   "cell_type": "markdown",
   "metadata": {},
   "source": [
    "# DNA Sequences Matching Analysis\n",
    "\n",
    "In this project, I will implement **strand-aware naive exact matching algorithm**, coded as function `naive_with_rc` in module `dnautil`. That is, instead of looking only for occurrences of read (p) in genome (t), additionally look for occurrences of the reverse complement of p in t. For example, if p is ACT, we should find occurrences of both ACT and its reverse complement AGT in t. If p and its reverse complement are identical (e.g. AACGTT), then a given match offset should be reported only once. "
   ]
  },
  {
   "cell_type": "code",
   "execution_count": 2,
   "metadata": {},
   "outputs": [],
   "source": [
    "import dnautil as dna"
   ]
  },
  {
   "cell_type": "markdown",
   "metadata": {},
   "source": [
    "First of all, we parse the lambda virus genome."
   ]
  },
  {
   "cell_type": "code",
   "execution_count": 5,
   "metadata": {},
   "outputs": [],
   "source": [
    "genome = dna.readGenome('lambda_virus.fa') "
   ]
  },
  {
   "cell_type": "markdown",
   "metadata": {},
   "source": [
    "### 1. How many times does **AGGT** or its reverse complement (**ACCT**) occur in the lambda virus genome?"
   ]
  },
  {
   "cell_type": "code",
   "execution_count": 7,
   "metadata": {},
   "outputs": [],
   "source": [
    "occurrences = dna.naive_with_rc('AGGT', genome)"
   ]
  },
  {
   "cell_type": "code",
   "execution_count": 8,
   "metadata": {},
   "outputs": [
    {
     "name": "stdout",
     "output_type": "stream",
     "text": [
      "AGGT or its reverse complement occurs 306 times in the lambda virus genome.\n"
     ]
    }
   ],
   "source": [
    "print(\"AGGT or its reverse complement occurs %d times in the lambda virus genome.\" % len(occurrences))"
   ]
  },
  {
   "cell_type": "markdown",
   "metadata": {},
   "source": [
    "## 2. How many times does TTAA or its reverse complement occur in the lambda virus genome? "
   ]
  },
  {
   "cell_type": "code",
   "execution_count": 10,
   "metadata": {},
   "outputs": [],
   "source": [
    "p = 'TTAA'\n",
    "occurrences = dna.naive_with_rc(p, genome)"
   ]
  },
  {
   "cell_type": "code",
   "execution_count": 12,
   "metadata": {},
   "outputs": [
    {
     "name": "stdout",
     "output_type": "stream",
     "text": [
      "TTAA or its reverse complement occurs 195 times in the lambda virus genome.\n"
     ]
    }
   ],
   "source": [
    "print(\"%s or its reverse complement occurs %d times in the lambda virus genome.\" % (p, len(occurrences)) )"
   ]
  },
  {
   "cell_type": "markdown",
   "metadata": {},
   "source": [
    "Note that TTAA and its reverse complement are equal, so we should not double count."
   ]
  },
  {
   "cell_type": "markdown",
   "metadata": {},
   "source": [
    "## 3. What is the offset of the leftmost occurrence of ACTAAGT or its reverse complement in the Lambda virus genome?"
   ]
  },
  {
   "cell_type": "code",
   "execution_count": 13,
   "metadata": {},
   "outputs": [],
   "source": [
    "p = 'ACTAAGT'\n",
    "occurrences = dna.naive_with_rc(p, genome)"
   ]
  },
  {
   "cell_type": "code",
   "execution_count": 14,
   "metadata": {},
   "outputs": [
    {
     "name": "stdout",
     "output_type": "stream",
     "text": [
      "offset of leftmost occurrence of ACTAAGT: 26028\n"
     ]
    }
   ],
   "source": [
    "print('offset of leftmost occurrence of %s: %d' % (p, min(occurrences)))"
   ]
  },
  {
   "cell_type": "markdown",
   "metadata": {},
   "source": [
    "## 4. What is the offset of the leftmost occurrence of AGTCGA or its reverse complement in the Lambda virus genome?"
   ]
  },
  {
   "cell_type": "code",
   "execution_count": 16,
   "metadata": {},
   "outputs": [],
   "source": [
    "p = 'AGTCGA'\n",
    "occurrences = dna.naive_with_rc(p, genome)"
   ]
  },
  {
   "cell_type": "code",
   "execution_count": 17,
   "metadata": {},
   "outputs": [
    {
     "name": "stdout",
     "output_type": "stream",
     "text": [
      "offset of leftmost occurrence of AGTCGA: 450\n"
     ]
    }
   ],
   "source": [
    "print('offset of leftmost occurrence of %s: %d' % (p, min(occurrences)))"
   ]
  },
  {
   "cell_type": "code",
   "execution_count": null,
   "metadata": {},
   "outputs": [],
   "source": []
  }
 ],
 "metadata": {
  "kernelspec": {
   "display_name": "Python 3",
   "language": "python",
   "name": "python3"
  },
  "language_info": {
   "codemirror_mode": {
    "name": "ipython",
    "version": 3
   },
   "file_extension": ".py",
   "mimetype": "text/x-python",
   "name": "python",
   "nbconvert_exporter": "python",
   "pygments_lexer": "ipython3",
   "version": "3.6.7"
  }
 },
 "nbformat": 4,
 "nbformat_minor": 2
}
