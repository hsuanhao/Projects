{
 "cells": [
  {
   "cell_type": "markdown",
   "metadata": {},
   "source": [
    "# DNA Sequences Process\n",
    "\n",
    "In this mini project, **I wrote a Python program that takes as input a file containing DNA sequences in multi-FASTA format, and made queries**. "
   ]
  },
  {
   "cell_type": "code",
   "execution_count": 1,
   "metadata": {},
   "outputs": [],
   "source": [
    "import pandas as pd\n",
    "import numpy as np"
   ]
  },
  {
   "cell_type": "markdown",
   "metadata": {},
   "source": [
    "## 1. Load and Prepare Data"
   ]
  },
  {
   "cell_type": "code",
   "execution_count": 2,
   "metadata": {},
   "outputs": [],
   "source": [
    "# file to open\n",
    "filename = 'dna.example.fasta'\n",
    "\n",
    "\n",
    "try:\n",
    "    fhandle = open(filename)\n",
    "except IOError:\n",
    "    print('The file %s does not exist !!' % filename)"
   ]
  },
  {
   "cell_type": "code",
   "execution_count": 3,
   "metadata": {},
   "outputs": [],
   "source": [
    "# Put sequences in the dictionary with key=\n",
    "seqs = {}\n",
    "\n",
    "for line in fhandle:\n",
    "    # let's discard the newline at the end (if any)\n",
    "    line = line.rstrip()\n",
    "    #print(line)\n",
    "    \n",
    "    #distinguish header from sequence\n",
    "    if line[0] == '>': \n",
    "        words = line.split()\n",
    "        name = words[0][1:]\n",
    "        seqs[name]=''\n",
    "    else: # sequence, not header\n",
    "        seqs[name] = seqs[name] + line    "
   ]
  },
  {
   "cell_type": "markdown",
   "metadata": {},
   "source": [
    "Note that a record in a FASTA file is defined as a single-line header, followed by lines of sequence data. The header line is distinguished from the sequence data by a greater-than (\">\") symbol in the first column. The word following the \">\" symbol is the identifier of the sequence, and the rest of the line is an optional description of the entry. There should be no space between the \">\" and the first letter of the identifier."
   ]
  },
  {
   "cell_type": "code",
   "execution_count": 4,
   "metadata": {},
   "outputs": [
    {
     "name": "stdout",
     "output_type": "stream",
     "text": [
      "There are 25 records in dna.example.fasta.\n"
     ]
    }
   ],
   "source": [
    "# Check how many records are in the file\n",
    "print(\"There are {0} records in {1}.\".format(len(seqs), filename))"
   ]
  },
  {
   "cell_type": "code",
   "execution_count": 5,
   "metadata": {},
   "outputs": [
    {
     "data": {
      "text/plain": [
       "dict_keys(['gi|142022655|gb|EQ086233.1|43', 'gi|142022655|gb|EQ086233.1|160', 'gi|142022655|gb|EQ086233.1|41', 'gi|142022655|gb|EQ086233.1|221', 'gi|142022655|gb|EQ086233.1|294', 'gi|142022655|gb|EQ086233.1|323', 'gi|142022655|gb|EQ086233.1|564', 'gi|142022655|gb|EQ086233.1|521', 'gi|142022655|gb|EQ086233.1|455', 'gi|142022655|gb|EQ086233.1|229', 'gi|142022655|gb|EQ086233.1|422', 'gi|142022655|gb|EQ086233.1|384', 'gi|142022655|gb|EQ086233.1|280', 'gi|142022655|gb|EQ086233.1|158', 'gi|142022655|gb|EQ086233.1|59', 'gi|142022655|gb|EQ086233.1|319', 'gi|142022655|gb|EQ086233.1|438', 'gi|142022655|gb|EQ086233.1|210', 'gi|142022655|gb|EQ086233.1|237', 'gi|142022655|gb|EQ086233.1|507', 'gi|142022655|gb|EQ086233.1|350', 'gi|142022655|gb|EQ086233.1|245', 'gi|142022655|gb|EQ086233.1|279', 'gi|142022655|gb|EQ086233.1|378', 'gi|142022655|gb|EQ086233.1|101'])"
      ]
     },
     "execution_count": 5,
     "metadata": {},
     "output_type": "execute_result"
    }
   ],
   "source": [
    "# Check identifiers\n",
    "seqs.keys()"
   ]
  },
  {
   "cell_type": "markdown",
   "metadata": {},
   "source": [
    "Convert the dictionary `seqs`, which record DNA sequence for each individual identifier into dataframe, called `myseq`."
   ]
  },
  {
   "cell_type": "code",
   "execution_count": 6,
   "metadata": {},
   "outputs": [],
   "source": [
    "myseq = pd.Series(seqs, name=\"DNA_Sequence\").rename_axis('ID').reset_index()"
   ]
  },
  {
   "cell_type": "code",
   "execution_count": 7,
   "metadata": {},
   "outputs": [
    {
     "data": {
      "text/html": [
       "<div>\n",
       "<style scoped>\n",
       "    .dataframe tbody tr th:only-of-type {\n",
       "        vertical-align: middle;\n",
       "    }\n",
       "\n",
       "    .dataframe tbody tr th {\n",
       "        vertical-align: top;\n",
       "    }\n",
       "\n",
       "    .dataframe thead th {\n",
       "        text-align: right;\n",
       "    }\n",
       "</style>\n",
       "<table border=\"1\" class=\"dataframe\">\n",
       "  <thead>\n",
       "    <tr style=\"text-align: right;\">\n",
       "      <th></th>\n",
       "      <th>ID</th>\n",
       "      <th>DNA_Sequence</th>\n",
       "    </tr>\n",
       "  </thead>\n",
       "  <tbody>\n",
       "    <tr>\n",
       "      <th>0</th>\n",
       "      <td>gi|142022655|gb|EQ086233.1|43</td>\n",
       "      <td>TCGGGCGAAGGCGGCAGCAAGTCGTCCACGCGCAGCGCGGCACCGC...</td>\n",
       "    </tr>\n",
       "    <tr>\n",
       "      <th>1</th>\n",
       "      <td>gi|142022655|gb|EQ086233.1|160</td>\n",
       "      <td>ATTGGGGAGGAGGCGAGTTGAGCGGCGGCAGTTCGCCTGCGTGCGC...</td>\n",
       "    </tr>\n",
       "    <tr>\n",
       "      <th>2</th>\n",
       "      <td>gi|142022655|gb|EQ086233.1|41</td>\n",
       "      <td>GACCTTGCATCGGCTGATCGCCGAGCGTGCCGACGTATTCATTCAC...</td>\n",
       "    </tr>\n",
       "    <tr>\n",
       "      <th>3</th>\n",
       "      <td>gi|142022655|gb|EQ086233.1|221</td>\n",
       "      <td>GCCCGGCGATTTGACGTCTGCAGCCTCACGTCCAAACTCAATTTGA...</td>\n",
       "    </tr>\n",
       "    <tr>\n",
       "      <th>4</th>\n",
       "      <td>gi|142022655|gb|EQ086233.1|294</td>\n",
       "      <td>GATCAGCCCCGCATACGCGTACGCGCGTGCGACGCCGAAGAGCGTC...</td>\n",
       "    </tr>\n",
       "  </tbody>\n",
       "</table>\n",
       "</div>"
      ],
      "text/plain": [
       "                               ID  \\\n",
       "0   gi|142022655|gb|EQ086233.1|43   \n",
       "1  gi|142022655|gb|EQ086233.1|160   \n",
       "2   gi|142022655|gb|EQ086233.1|41   \n",
       "3  gi|142022655|gb|EQ086233.1|221   \n",
       "4  gi|142022655|gb|EQ086233.1|294   \n",
       "\n",
       "                                        DNA_Sequence  \n",
       "0  TCGGGCGAAGGCGGCAGCAAGTCGTCCACGCGCAGCGCGGCACCGC...  \n",
       "1  ATTGGGGAGGAGGCGAGTTGAGCGGCGGCAGTTCGCCTGCGTGCGC...  \n",
       "2  GACCTTGCATCGGCTGATCGCCGAGCGTGCCGACGTATTCATTCAC...  \n",
       "3  GCCCGGCGATTTGACGTCTGCAGCCTCACGTCCAAACTCAATTTGA...  \n",
       "4  GATCAGCCCCGCATACGCGTACGCGCGTGCGACGCCGAAGAGCGTC...  "
      ]
     },
     "execution_count": 7,
     "metadata": {},
     "output_type": "execute_result"
    }
   ],
   "source": [
    "myseq.head()"
   ]
  },
  {
   "cell_type": "markdown",
   "metadata": {},
   "source": [
    "## 2. Sequence Analysis\n",
    "\n",
    "### A. What are the lengths of the sequences?"
   ]
  },
  {
   "cell_type": "code",
   "execution_count": 8,
   "metadata": {},
   "outputs": [],
   "source": [
    "myseq['length'] = myseq['DNA_Sequence'].apply(lambda x: len(x))"
   ]
  },
  {
   "cell_type": "code",
   "execution_count": 9,
   "metadata": {},
   "outputs": [
    {
     "data": {
      "text/html": [
       "<div>\n",
       "<style scoped>\n",
       "    .dataframe tbody tr th:only-of-type {\n",
       "        vertical-align: middle;\n",
       "    }\n",
       "\n",
       "    .dataframe tbody tr th {\n",
       "        vertical-align: top;\n",
       "    }\n",
       "\n",
       "    .dataframe thead th {\n",
       "        text-align: right;\n",
       "    }\n",
       "</style>\n",
       "<table border=\"1\" class=\"dataframe\">\n",
       "  <thead>\n",
       "    <tr style=\"text-align: right;\">\n",
       "      <th></th>\n",
       "      <th>ID</th>\n",
       "      <th>DNA_Sequence</th>\n",
       "      <th>length</th>\n",
       "    </tr>\n",
       "  </thead>\n",
       "  <tbody>\n",
       "    <tr>\n",
       "      <th>0</th>\n",
       "      <td>gi|142022655|gb|EQ086233.1|43</td>\n",
       "      <td>TCGGGCGAAGGCGGCAGCAAGTCGTCCACGCGCAGCGCGGCACCGC...</td>\n",
       "      <td>990</td>\n",
       "    </tr>\n",
       "    <tr>\n",
       "      <th>1</th>\n",
       "      <td>gi|142022655|gb|EQ086233.1|160</td>\n",
       "      <td>ATTGGGGAGGAGGCGAGTTGAGCGGCGGCAGTTCGCCTGCGTGCGC...</td>\n",
       "      <td>724</td>\n",
       "    </tr>\n",
       "    <tr>\n",
       "      <th>2</th>\n",
       "      <td>gi|142022655|gb|EQ086233.1|41</td>\n",
       "      <td>GACCTTGCATCGGCTGATCGCCGAGCGTGCCGACGTATTCATTCAC...</td>\n",
       "      <td>3080</td>\n",
       "    </tr>\n",
       "    <tr>\n",
       "      <th>3</th>\n",
       "      <td>gi|142022655|gb|EQ086233.1|221</td>\n",
       "      <td>GCCCGGCGATTTGACGTCTGCAGCCTCACGTCCAAACTCAATTTGA...</td>\n",
       "      <td>2863</td>\n",
       "    </tr>\n",
       "    <tr>\n",
       "      <th>4</th>\n",
       "      <td>gi|142022655|gb|EQ086233.1|294</td>\n",
       "      <td>GATCAGCCCCGCATACGCGTACGCGCGTGCGACGCCGAAGAGCGTC...</td>\n",
       "      <td>3832</td>\n",
       "    </tr>\n",
       "  </tbody>\n",
       "</table>\n",
       "</div>"
      ],
      "text/plain": [
       "                               ID  \\\n",
       "0   gi|142022655|gb|EQ086233.1|43   \n",
       "1  gi|142022655|gb|EQ086233.1|160   \n",
       "2   gi|142022655|gb|EQ086233.1|41   \n",
       "3  gi|142022655|gb|EQ086233.1|221   \n",
       "4  gi|142022655|gb|EQ086233.1|294   \n",
       "\n",
       "                                        DNA_Sequence  length  \n",
       "0  TCGGGCGAAGGCGGCAGCAAGTCGTCCACGCGCAGCGCGGCACCGC...     990  \n",
       "1  ATTGGGGAGGAGGCGAGTTGAGCGGCGGCAGTTCGCCTGCGTGCGC...     724  \n",
       "2  GACCTTGCATCGGCTGATCGCCGAGCGTGCCGACGTATTCATTCAC...    3080  \n",
       "3  GCCCGGCGATTTGACGTCTGCAGCCTCACGTCCAAACTCAATTTGA...    2863  \n",
       "4  GATCAGCCCCGCATACGCGTACGCGCGTGCGACGCCGAAGAGCGTC...    3832  "
      ]
     },
     "execution_count": 9,
     "metadata": {},
     "output_type": "execute_result"
    }
   ],
   "source": [
    "myseq.head()"
   ]
  },
  {
   "cell_type": "code",
   "execution_count": 10,
   "metadata": {},
   "outputs": [],
   "source": [
    "# Check whether the above calculation is correct or not\n",
    "assert(myseq.loc[0,'length'] == len(seqs[myseq.loc[0,'ID']]))\n",
    "assert(myseq.loc[1,'length'] == len(seqs[myseq.loc[1,'ID']]))"
   ]
  },
  {
   "cell_type": "markdown",
   "metadata": {},
   "source": [
    "Find the longest sequence:"
   ]
  },
  {
   "cell_type": "code",
   "execution_count": 11,
   "metadata": {},
   "outputs": [
    {
     "data": {
      "text/html": [
       "<div>\n",
       "<style scoped>\n",
       "    .dataframe tbody tr th:only-of-type {\n",
       "        vertical-align: middle;\n",
       "    }\n",
       "\n",
       "    .dataframe tbody tr th {\n",
       "        vertical-align: top;\n",
       "    }\n",
       "\n",
       "    .dataframe thead th {\n",
       "        text-align: right;\n",
       "    }\n",
       "</style>\n",
       "<table border=\"1\" class=\"dataframe\">\n",
       "  <thead>\n",
       "    <tr style=\"text-align: right;\">\n",
       "      <th></th>\n",
       "      <th>ID</th>\n",
       "      <th>DNA_Sequence</th>\n",
       "      <th>length</th>\n",
       "    </tr>\n",
       "  </thead>\n",
       "  <tbody>\n",
       "    <tr>\n",
       "      <th>5</th>\n",
       "      <td>gi|142022655|gb|EQ086233.1|323</td>\n",
       "      <td>ACGCCCGGCGCACCGCGAGTACCGCGCCGCCGGGCACTCCTTGACC...</td>\n",
       "      <td>4805</td>\n",
       "    </tr>\n",
       "    <tr>\n",
       "      <th>14</th>\n",
       "      <td>gi|142022655|gb|EQ086233.1|59</td>\n",
       "      <td>CGTGAATTCGATCTGCGGCAGCACGATCGCATGCATCACGCCCCGC...</td>\n",
       "      <td>4745</td>\n",
       "    </tr>\n",
       "    <tr>\n",
       "      <th>4</th>\n",
       "      <td>gi|142022655|gb|EQ086233.1|294</td>\n",
       "      <td>GATCAGCCCCGCATACGCGTACGCGCGTGCGACGCCGAAGAGCGTC...</td>\n",
       "      <td>3832</td>\n",
       "    </tr>\n",
       "    <tr>\n",
       "      <th>11</th>\n",
       "      <td>gi|142022655|gb|EQ086233.1|384</td>\n",
       "      <td>CTTCCGATCGCATGTCACGCCGGCGCGACATTTCGACGAACGCGTC...</td>\n",
       "      <td>3603</td>\n",
       "    </tr>\n",
       "    <tr>\n",
       "      <th>16</th>\n",
       "      <td>gi|142022655|gb|EQ086233.1|438</td>\n",
       "      <td>CGGGGTCCTGATCCGGGAGTCCGGGCCGCCGGCGTATCTTCGCGTG...</td>\n",
       "      <td>3424</td>\n",
       "    </tr>\n",
       "  </tbody>\n",
       "</table>\n",
       "</div>"
      ],
      "text/plain": [
       "                                ID  \\\n",
       "5   gi|142022655|gb|EQ086233.1|323   \n",
       "14   gi|142022655|gb|EQ086233.1|59   \n",
       "4   gi|142022655|gb|EQ086233.1|294   \n",
       "11  gi|142022655|gb|EQ086233.1|384   \n",
       "16  gi|142022655|gb|EQ086233.1|438   \n",
       "\n",
       "                                         DNA_Sequence  length  \n",
       "5   ACGCCCGGCGCACCGCGAGTACCGCGCCGCCGGGCACTCCTTGACC...    4805  \n",
       "14  CGTGAATTCGATCTGCGGCAGCACGATCGCATGCATCACGCCCCGC...    4745  \n",
       "4   GATCAGCCCCGCATACGCGTACGCGCGTGCGACGCCGAAGAGCGTC...    3832  \n",
       "11  CTTCCGATCGCATGTCACGCCGGCGCGACATTTCGACGAACGCGTC...    3603  \n",
       "16  CGGGGTCCTGATCCGGGAGTCCGGGCCGCCGGCGTATCTTCGCGTG...    3424  "
      ]
     },
     "execution_count": 11,
     "metadata": {},
     "output_type": "execute_result"
    }
   ],
   "source": [
    "myseq.sort_values(by='length', ascending=False).head()"
   ]
  },
  {
   "cell_type": "markdown",
   "metadata": {},
   "source": [
    "As one can see, the identifier, 'gi|142022655|gb|EQ086233.1|323', has the longest length of DNA sequence, 4805. \n",
    "\n",
    "Similarly, we can find the shortest sequence:"
   ]
  },
  {
   "cell_type": "code",
   "execution_count": 12,
   "metadata": {},
   "outputs": [
    {
     "data": {
      "text/html": [
       "<div>\n",
       "<style scoped>\n",
       "    .dataframe tbody tr th:only-of-type {\n",
       "        vertical-align: middle;\n",
       "    }\n",
       "\n",
       "    .dataframe tbody tr th {\n",
       "        vertical-align: top;\n",
       "    }\n",
       "\n",
       "    .dataframe thead th {\n",
       "        text-align: right;\n",
       "    }\n",
       "</style>\n",
       "<table border=\"1\" class=\"dataframe\">\n",
       "  <thead>\n",
       "    <tr style=\"text-align: right;\">\n",
       "      <th></th>\n",
       "      <th>ID</th>\n",
       "      <th>DNA_Sequence</th>\n",
       "      <th>length</th>\n",
       "    </tr>\n",
       "  </thead>\n",
       "  <tbody>\n",
       "    <tr>\n",
       "      <th>7</th>\n",
       "      <td>gi|142022655|gb|EQ086233.1|521</td>\n",
       "      <td>CGTTGTTCGCCAGGTCGTCCGCATAGCCGGCCGAGCTGAACTGCGT...</td>\n",
       "      <td>512</td>\n",
       "    </tr>\n",
       "    <tr>\n",
       "      <th>23</th>\n",
       "      <td>gi|142022655|gb|EQ086233.1|378</td>\n",
       "      <td>CATGGCGCGCCTGCTGCACGCGCAACGCCTGTGCGATCCAGAGCGC...</td>\n",
       "      <td>555</td>\n",
       "    </tr>\n",
       "    <tr>\n",
       "      <th>8</th>\n",
       "      <td>gi|142022655|gb|EQ086233.1|455</td>\n",
       "      <td>TTCGAGTCGCTCGACGCGCCTCGACGGGCAACTAGCCGCCGTTGGC...</td>\n",
       "      <td>691</td>\n",
       "    </tr>\n",
       "    <tr>\n",
       "      <th>1</th>\n",
       "      <td>gi|142022655|gb|EQ086233.1|160</td>\n",
       "      <td>ATTGGGGAGGAGGCGAGTTGAGCGGCGGCAGTTCGCCTGCGTGCGC...</td>\n",
       "      <td>724</td>\n",
       "    </tr>\n",
       "    <tr>\n",
       "      <th>0</th>\n",
       "      <td>gi|142022655|gb|EQ086233.1|43</td>\n",
       "      <td>TCGGGCGAAGGCGGCAGCAAGTCGTCCACGCGCAGCGCGGCACCGC...</td>\n",
       "      <td>990</td>\n",
       "    </tr>\n",
       "  </tbody>\n",
       "</table>\n",
       "</div>"
      ],
      "text/plain": [
       "                                ID  \\\n",
       "7   gi|142022655|gb|EQ086233.1|521   \n",
       "23  gi|142022655|gb|EQ086233.1|378   \n",
       "8   gi|142022655|gb|EQ086233.1|455   \n",
       "1   gi|142022655|gb|EQ086233.1|160   \n",
       "0    gi|142022655|gb|EQ086233.1|43   \n",
       "\n",
       "                                         DNA_Sequence  length  \n",
       "7   CGTTGTTCGCCAGGTCGTCCGCATAGCCGGCCGAGCTGAACTGCGT...     512  \n",
       "23  CATGGCGCGCCTGCTGCACGCGCAACGCCTGTGCGATCCAGAGCGC...     555  \n",
       "8   TTCGAGTCGCTCGACGCGCCTCGACGGGCAACTAGCCGCCGTTGGC...     691  \n",
       "1   ATTGGGGAGGAGGCGAGTTGAGCGGCGGCAGTTCGCCTGCGTGCGC...     724  \n",
       "0   TCGGGCGAAGGCGGCAGCAAGTCGTCCACGCGCAGCGCGGCACCGC...     990  "
      ]
     },
     "execution_count": 12,
     "metadata": {},
     "output_type": "execute_result"
    }
   ],
   "source": [
    "myseq.sort_values(by='length').head()"
   ]
  },
  {
   "cell_type": "markdown",
   "metadata": {},
   "source": [
    " The identifier, 'gi|142022655|gb|EQ086233.1|521', has the shortest length of DNA sequence, 512. "
   ]
  },
  {
   "cell_type": "markdown",
   "metadata": {},
   "source": [
    "### B. Find Open Reading Frame (ORF)\n",
    "\n",
    "In molecular biology, a **reading frame** is a way of dividing the DNA sequence of nucleotides into a set of consecutive, non-overlapping triplets, called **codons**. An **open reading frame (ORF)** is the part of  reading frame that has the potential to encode a protein.  <font color='blue'>It starts with a start codon (ATG), and ends with a stop codon (TAA, TAG, or TGA) as shown in below figure, originated from [this website](https://rody.blog/2015/11/14/orf-finder-for-fasta-files-with-dna-sequences-using-python/). \n",
    "    \n",
    "![alt text](https://rodybio.files.wordpress.com/2015/11/orf.jpg)    \n",
    "    \n",
    "<font color='black'>\n",
    "\n",
    "\n",
    "Depending on where we start, there are six possible reading frames: three in the forward direction (5' to 3') and three in the reverse (3' to 5'). For instance, the three possible forward reading frames for the sequence 'AGGTGACACCGCAAGCCTTATATTAGC' are:\n",
    "```\n",
    "AGG TGA CAC CGC AAG CCT TAT ATT AGC  (reading frame = 1)\n",
    "A GGT GAC ACC GCA AGC CTT ATA TTA GC (reading frame = 2)\n",
    "AG GTG ACA CCG CAA GCC TTA TAT TAG C (reading frame = 3)\n",
    "```\n",
    " For instance, <font color='red'>ATG<font color='black'>AAA<font color='red'>TAG<font color='black'> is an ORF of length 9. Proteins are formed from ORF. By analyzing the ORF we can predict the possible amino acids that might be produced during translation. [The ORF finder](https://www.ncbi.nlm.nih.gov/orffinder/) is a program available at NCBI website. It identifies all ORF or possible protein coding region from six different reading frame. In what follows, I will implement my own ORF finder written in Python.\n",
    "\n",
    "Note: one can refer to this [website](https://vlab.amrita.edu/index.php?sub=3&brch=273&sim=1432&cnt=1) for more details about ORF."
   ]
  },
  {
   "cell_type": "markdown",
   "metadata": {},
   "source": [
    "### Self-Written ORF Finder in Python"
   ]
  },
  {
   "cell_type": "code",
   "execution_count": 13,
   "metadata": {},
   "outputs": [],
   "source": [
    "def orf_finder(dna, frame=0, forward=True):\n",
    "    \"\"\"\n",
    "    \n",
    "    This function finds open reading frame (ORF) in a given DNA sequence.\n",
    "    \n",
    "    Parameters\n",
    "    ---------\n",
    "    dna: str A DNA sequence\n",
    "    \n",
    "    frame: int frame argument equal to 0, 1, or 2.\n",
    "                   Default is 0.\n",
    "    \n",
    "    forward: boolean Search ORF in forward direction or not.\n",
    "    \n",
    "    Returns\n",
    "    -------\n",
    "    found_orf: list of dictionaries Return information of found ORFs\n",
    "                                    including frame, start position, stop position,\n",
    "                                    length of ORF, nucleotide sequence of ORF\n",
    "\n",
    "    \"\"\"\n",
    "    import dnautil\n",
    "    \n",
    "    size = len(dna)\n",
    "    \n",
    "    start_codon = 'atg'\n",
    "    stop_codons = ['tga', 'tag', 'taa']\n",
    "    start_pos = None\n",
    "    found_orf = []\n",
    "    \n",
    "    # forward direction (5' to 3')\n",
    "    if forward:\n",
    "        \n",
    "        for i in range(frame, size, 3):\n",
    "                \n",
    "            codon = dna[i:i+3].lower()\n",
    "            # Check whether codon is a start codon\n",
    "            if (start_pos is None) and (codon == start_codon):\n",
    "                start_pos = i\n",
    "                continue\n",
    "                \n",
    "            # Check whether codon is a stop codon\n",
    "            if (start_pos is not None) and (codon in stop_codons):\n",
    "                # Record the initial position, end position, and length of ORF\n",
    "                # Extract the DNA sequence by dna[start_pos:(i+3)]\n",
    "                found_orf.append({\"Frame\": '+'+str(frame+1), \"Start\":start_pos+1, \"Stop\":i+3,\\\n",
    "                                 \"Length\": i+3 - start_pos, \"ORF\": dna[start_pos:i+3]})\n",
    "                start_pos = None\n",
    "                continue\n",
    "    \n",
    "    # the reverse (3' to 5') direction\n",
    "    else:\n",
    "        rev_complement_dna = dnautil.reverse_complement(dna)\n",
    "        \n",
    "        for i in range(frame, size, 3):\n",
    "                \n",
    "            codon = rev_complement_dna[i:i+3].lower()\n",
    "            # Check whether codon is a start codon\n",
    "            if (start_pos is None) and (codon == start_codon):\n",
    "                start_pos = i\n",
    "                continue\n",
    "                \n",
    "            # Check whether codon is a stop codon\n",
    "            if (start_pos is not None) and (codon in stop_codons):\n",
    "                # Record the initial position, end position, and length of ORF\n",
    "                # Extract the DNA sequence by rev_complement_dna[start_pos:(i+3)]\n",
    "                found_orf.append({\"Frame\": '-'+str(frame+1), \"Start\":size - start_pos, \"Stop\":size - i-2,\\\n",
    "                                 \"Length\": i+3 - start_pos, \"ORF\": rev_complement_dna[start_pos:i+3]})\n",
    "                start_pos = None\n",
    "                continue\n",
    "                \n",
    "        \n",
    "    return found_orf"
   ]
  },
  {
   "cell_type": "markdown",
   "metadata": {},
   "source": [
    "### Test `orf_finder` I wrote\n",
    "In order to examine whether the code I wrote is correct or not, I compared the results with results obtained by [the ORF finder](https://www.ncbi.nlm.nih.gov/orffinder/) at NCBI website. *Note that as a matter of definition, frame i in my code is identical to frame i+1 in ORF finder at NCBI website. *"
   ]
  },
  {
   "cell_type": "code",
   "execution_count": 14,
   "metadata": {},
   "outputs": [
    {
     "data": {
      "text/plain": [
       "'TCGGGCGAAGGCGGCAGCAAGTCGTCCACGCGCAGCGCGGCACCGCGGGCCTCTGCCGTGCGCTGCTTGGCCATGGCCTCCAGCGCACCGATCGGATCAAAGCCGCTGAAGCCTTCGCGCATCAGGCGGCCATAGTTGGCGCCAGTGACCGTACCAACCGCCTTGATGCGGCGCTCGGTCATCGCTGCATTGATCGAGTAGCCACCGCCGCCGCAAATGCCCAGCACGCCAATGCGTTCTTCATCCACATAGGGGAGCGTTACGAGGTAGTCGCAGACCACGCGGAAATCCTCGACGCGCAGTGTCGGGTCTTCGGTAAAACGTGGTTCGCCGCCGCTGGCACCCTGGAAGCTGGCGTCGAAGGCGATGACGACGAAACCTTCCTTGGCCAGCGCCTCGCCATACACGTTCCCCGATGTTTGCTCCTTGCAGCTGCCGATCGGATGCGCGCTGATGATGGCGGGATATTTCTTGCCTTCGTCGAAGTTCGGCGGGAAGTGGATGTCGGCTGCGATATCCCAATACACATTCTTGATCTTGACGCTTTTCATGACAGCTCCGTTCAGGGGGAGGGGGTAAGTTCGCCAGGCCGAATCGTTGGTAGCCAAGCGGCAACGACTCGAATATAGAGAGCCGATTGGAATTCCGTAAGATCGCAATCTGGACTACAGTGGTATCTTCAAATTGACAATGGCACCTACATGGATCCCTCACTGCTTCCGTCTCTCGCGTGGTTCGCCCACGTCGCACATCATCGTAGCTTCACGAAAGCGGCTGCGGAAATGGGCGTTTCTCGAGCAAACCTGTCGCAGAACGTGAAGGCGCTCGAACGCCGGTTGAACGTCAAGCTGCTGTATCGAACGACTCGCGACATGTCGCTGACCGAGGAGGGGCAGCGGCTCTACGAGGTGTGGTATCCCGCGCTGGTCGCGGTCGAGCGGACGGTCGACGCGCTGCACGAGGAGCGCGACGAGCCGTCGGGGTTGATTC'"
      ]
     },
     "execution_count": 14,
     "metadata": {},
     "output_type": "execute_result"
    }
   ],
   "source": [
    "test_seq = seqs['gi|142022655|gb|EQ086233.1|43']   \n",
    "test_seq"
   ]
  },
  {
   "cell_type": "code",
   "execution_count": 15,
   "metadata": {},
   "outputs": [
    {
     "data": {
      "text/plain": [
       "990"
      ]
     },
     "execution_count": 15,
     "metadata": {},
     "output_type": "execute_result"
    }
   ],
   "source": [
    "len(test_seq)"
   ]
  },
  {
   "cell_type": "markdown",
   "metadata": {},
   "source": [
    "First of all, I consider the forward direction:"
   ]
  },
  {
   "cell_type": "code",
   "execution_count": 16,
   "metadata": {},
   "outputs": [
    {
     "data": {
      "text/plain": [
       "[{'Frame': '+1',\n",
       "  'Start': 73,\n",
       "  'Stop': 135,\n",
       "  'Length': 63,\n",
       "  'ORF': 'ATGGCCTCCAGCGCACCGATCGGATCAAAGCCGCTGAAGCCTTCGCGCATCAGGCGGCCATAG'},\n",
       " {'Frame': '+1',\n",
       "  'Start': 166,\n",
       "  'Stop': 201,\n",
       "  'Length': 36,\n",
       "  'ORF': 'ATGCGGCGCTCGGTCATCGCTGCATTGATCGAGTAG'},\n",
       " {'Frame': '+1',\n",
       "  'Start': 217,\n",
       "  'Stop': 252,\n",
       "  'Length': 36,\n",
       "  'ORF': 'ATGCCCAGCACGCCAATGCGTTCTTCATCCACATAG'},\n",
       " {'Frame': '+1',\n",
       "  'Start': 367,\n",
       "  'Stop': 579,\n",
       "  'Length': 213,\n",
       "  'ORF': 'ATGACGACGAAACCTTCCTTGGCCAGCGCCTCGCCATACACGTTCCCCGATGTTTGCTCCTTGCAGCTGCCGATCGGATGCGCGCTGATGATGGCGGGATATTTCTTGCCTTCGTCGAAGTTCGGCGGGAAGTGGATGTCGGCTGCGATATCCCAATACACATTCTTGATCTTGACGCTTTTCATGACAGCTCCGTTCAGGGGGAGGGGGTAA'},\n",
       " {'Frame': '+1',\n",
       "  'Start': 691,\n",
       "  'Stop': 819,\n",
       "  'Length': 129,\n",
       "  'ORF': 'ATGGCACCTACATGGATCCCTCACTGCTTCCGTCTCTCGCGTGGTTCGCCCACGTCGCACATCATCGTAGCTTCACGAAAGCGGCTGCGGAAATGGGCGTTTCTCGAGCAAACCTGTCGCAGAACGTGA'}]"
      ]
     },
     "execution_count": 16,
     "metadata": {},
     "output_type": "execute_result"
    }
   ],
   "source": [
    "orf_finder(test_seq, frame=0)"
   ]
  },
  {
   "cell_type": "code",
   "execution_count": 17,
   "metadata": {},
   "outputs": [
    {
     "data": {
      "text/plain": [
       "[{'Frame': '+2',\n",
       "  'Start': 416,\n",
       "  'Stop': 454,\n",
       "  'Length': 39,\n",
       "  'ORF': 'ATGTTTGCTCCTTGCAGCTGCCGATCGGATGCGCGCTGA'}]"
      ]
     },
     "execution_count": 17,
     "metadata": {},
     "output_type": "execute_result"
    }
   ],
   "source": [
    "orf_finder(test_seq, frame=1)"
   ]
  },
  {
   "cell_type": "code",
   "execution_count": 18,
   "metadata": {},
   "outputs": [
    {
     "data": {
      "text/plain": [
       "[{'Frame': '+3',\n",
       "  'Start': 444,\n",
       "  'Stop': 629,\n",
       "  'Length': 186,\n",
       "  'ORF': 'ATGCGCGCTGATGATGGCGGGATATTTCTTGCCTTCGTCGAAGTTCGGCGGGAAGTGGATGTCGGCTGCGATATCCCAATACACATTCTTGATCTTGACGCTTTTCATGACAGCTCCGTTCAGGGGGAGGGGGTAAGTTCGCCAGGCCGAATCGTTGGTAGCCAAGCGGCAACGACTCGAATATAG'}]"
      ]
     },
     "execution_count": 18,
     "metadata": {},
     "output_type": "execute_result"
    }
   ],
   "source": [
    "orf_finder(test_seq, frame=2)"
   ]
  },
  {
   "cell_type": "code",
   "execution_count": 19,
   "metadata": {},
   "outputs": [
    {
     "data": {
      "text/plain": [
       "'ATGGATCCCTCACTGCTTCCGTCTCTCGCGTGGTTCGCCCACGTCGCACATCATCGTAGCTTCACGAAAGCGGCTGCGGAAATGGGCGTTTCTCGAGCAAACCTGTCGCAGAACGTGAAGGCGCTCGAACGCCGGTTGAACGTCAAGCTGCTGTATCGAACGACTCGCGACATGTCGCTGACCGAGGAGGGGCAGCGGCTCTACGAGGTGTGGTATCCCGCGCTGGTCGCGGTCGAGCGGACGGTCGACGCGCTGCACGAGGAGCGCGACGAGCCGTCGGGGTTGATT'"
      ]
     },
     "execution_count": 19,
     "metadata": {},
     "output_type": "execute_result"
    }
   ],
   "source": [
    "test_seq[701:989]"
   ]
  },
  {
   "cell_type": "markdown",
   "metadata": {},
   "source": [
    "The ORF finder at NCBI website obtained above ORF additionally but after further examination, we can see that this case is not ORF since it ends with ATT.\n",
    "\n",
    "Next, we consider reverse direction:"
   ]
  },
  {
   "cell_type": "code",
   "execution_count": 20,
   "metadata": {},
   "outputs": [
    {
     "data": {
      "text/plain": [
       "[]"
      ]
     },
     "execution_count": 20,
     "metadata": {},
     "output_type": "execute_result"
    }
   ],
   "source": [
    "orf_finder(test_seq, frame=0, forward=False)"
   ]
  },
  {
   "cell_type": "code",
   "execution_count": 21,
   "metadata": {},
   "outputs": [
    {
     "data": {
      "text/plain": [
       "[{'Frame': '-2',\n",
       "  'Start': 755,\n",
       "  'Stop': 711,\n",
       "  'Length': 45,\n",
       "  'ORF': 'ATGATGTGCGACGTGGGCGAACCACGCGAGAGACGGAAGCAGTGA'}]"
      ]
     },
     "execution_count": 21,
     "metadata": {},
     "output_type": "execute_result"
    }
   ],
   "source": [
    "orf_finder(test_seq, frame=1, forward=False)"
   ]
  },
  {
   "cell_type": "code",
   "execution_count": 22,
   "metadata": {},
   "outputs": [
    {
     "data": {
      "text/plain": [
       "[{'Frame': '-3',\n",
       "  'Start': 874,\n",
       "  'Stop': 752,\n",
       "  'Length': 123,\n",
       "  'ORF': 'ATGTCGCGAGTCGTTCGATACAGCAGCTTGACGTTCAACCGGCGTTCGAGCGCCTTCACGTTCTGCGACAGGTTTGCTCGAGAAACGCCCATTTCCGCAGCCGCTTTCGTGAAGCTACGATGA'},\n",
       " {'Frame': '-3', 'Start': 703, 'Stop': 698, 'Length': 6, 'ORF': 'ATGTAG'},\n",
       " {'Frame': '-3',\n",
       "  'Start': 529,\n",
       "  'Stop': 260,\n",
       "  'Length': 270,\n",
       "  'ORF': 'ATGTGTATTGGGATATCGCAGCCGACATCCACTTCCCGCCGAACTTCGACGAAGGCAAGAAATATCCCGCCATCATCAGCGCGCATCCGATCGGCAGCTGCAAGGAGCAAACATCGGGGAACGTGTATGGCGAGGCGCTGGCCAAGGAAGGTTTCGTCGTCATCGCCTTCGACGCCAGCTTCCAGGGTGCCAGCGGCGGCGAACCACGTTTTACCGAAGACCCGACACTGCGCGTCGAGGATTTCCGCGTGGTCTGCGACTACCTCGTAA'},\n",
       " {'Frame': '-3',\n",
       "  'Start': 250,\n",
       "  'Stop': 179,\n",
       "  'Length': 72,\n",
       "  'ORF': 'ATGTGGATGAAGAACGCATTGGCGTGCTGGGCATTTGCGGCGGCGGTGGCTACTCGATCAATGCAGCGATGA'},\n",
       " {'Frame': '-3',\n",
       "  'Start': 133,\n",
       "  'Stop': 122,\n",
       "  'Length': 12,\n",
       "  'ORF': 'ATGGCCGCCTGA'}]"
      ]
     },
     "execution_count": 22,
     "metadata": {},
     "output_type": "execute_result"
    }
   ],
   "source": [
    "orf_finder(test_seq, frame=2, forward=False)"
   ]
  },
  {
   "cell_type": "markdown",
   "metadata": {},
   "source": [
    "After test the self-written function above, we are ready to implement it to find ORFs with given DNA sequence.\n",
    "\n",
    "### Find ORF with Given DNA Sequence"
   ]
  },
  {
   "cell_type": "code",
   "execution_count": 23,
   "metadata": {},
   "outputs": [],
   "source": [
    "def orf(dna):\n",
    "    \"\"\"\n",
    "    \n",
    "    A function to find all possible ORFs with given DNA sequence\n",
    "\n",
    "    Parameters\n",
    "    ---------\n",
    "    dna: str A DNA sequence\n",
    "    \n",
    "    \n",
    "    Returns\n",
    "    -------\n",
    "    all_orf: list of dictionaries Return information of all found ORFs\n",
    "                                    including frame, start position, stop position,\n",
    "                                    length of ORF, nucleotide sequence of ORF\n",
    "    \"\"\"\n",
    "    \n",
    "    # List to record all orfs found in given DNA sequence\n",
    "    all_orf = []\n",
    "    \n",
    "    for frame in range(3):\n",
    "        # Consider forward direction\n",
    "        all_orf += orf_finder(dna, frame=frame)\n",
    "        \n",
    "        # Consider reverse direction\n",
    "        all_orf += orf_finder(dna, frame=frame, forward=False)\n",
    "        \n",
    "    return all_orf"
   ]
  },
  {
   "cell_type": "code",
   "execution_count": 24,
   "metadata": {},
   "outputs": [
    {
     "data": {
      "text/plain": [
       "[{'Frame': '+1',\n",
       "  'Start': 73,\n",
       "  'Stop': 135,\n",
       "  'Length': 63,\n",
       "  'ORF': 'ATGGCCTCCAGCGCACCGATCGGATCAAAGCCGCTGAAGCCTTCGCGCATCAGGCGGCCATAG'},\n",
       " {'Frame': '+1',\n",
       "  'Start': 166,\n",
       "  'Stop': 201,\n",
       "  'Length': 36,\n",
       "  'ORF': 'ATGCGGCGCTCGGTCATCGCTGCATTGATCGAGTAG'},\n",
       " {'Frame': '+1',\n",
       "  'Start': 217,\n",
       "  'Stop': 252,\n",
       "  'Length': 36,\n",
       "  'ORF': 'ATGCCCAGCACGCCAATGCGTTCTTCATCCACATAG'},\n",
       " {'Frame': '+1',\n",
       "  'Start': 367,\n",
       "  'Stop': 579,\n",
       "  'Length': 213,\n",
       "  'ORF': 'ATGACGACGAAACCTTCCTTGGCCAGCGCCTCGCCATACACGTTCCCCGATGTTTGCTCCTTGCAGCTGCCGATCGGATGCGCGCTGATGATGGCGGGATATTTCTTGCCTTCGTCGAAGTTCGGCGGGAAGTGGATGTCGGCTGCGATATCCCAATACACATTCTTGATCTTGACGCTTTTCATGACAGCTCCGTTCAGGGGGAGGGGGTAA'},\n",
       " {'Frame': '+1',\n",
       "  'Start': 691,\n",
       "  'Stop': 819,\n",
       "  'Length': 129,\n",
       "  'ORF': 'ATGGCACCTACATGGATCCCTCACTGCTTCCGTCTCTCGCGTGGTTCGCCCACGTCGCACATCATCGTAGCTTCACGAAAGCGGCTGCGGAAATGGGCGTTTCTCGAGCAAACCTGTCGCAGAACGTGA'},\n",
       " {'Frame': '+2',\n",
       "  'Start': 416,\n",
       "  'Stop': 454,\n",
       "  'Length': 39,\n",
       "  'ORF': 'ATGTTTGCTCCTTGCAGCTGCCGATCGGATGCGCGCTGA'},\n",
       " {'Frame': '-2',\n",
       "  'Start': 755,\n",
       "  'Stop': 711,\n",
       "  'Length': 45,\n",
       "  'ORF': 'ATGATGTGCGACGTGGGCGAACCACGCGAGAGACGGAAGCAGTGA'},\n",
       " {'Frame': '+3',\n",
       "  'Start': 444,\n",
       "  'Stop': 629,\n",
       "  'Length': 186,\n",
       "  'ORF': 'ATGCGCGCTGATGATGGCGGGATATTTCTTGCCTTCGTCGAAGTTCGGCGGGAAGTGGATGTCGGCTGCGATATCCCAATACACATTCTTGATCTTGACGCTTTTCATGACAGCTCCGTTCAGGGGGAGGGGGTAAGTTCGCCAGGCCGAATCGTTGGTAGCCAAGCGGCAACGACTCGAATATAG'},\n",
       " {'Frame': '-3',\n",
       "  'Start': 874,\n",
       "  'Stop': 752,\n",
       "  'Length': 123,\n",
       "  'ORF': 'ATGTCGCGAGTCGTTCGATACAGCAGCTTGACGTTCAACCGGCGTTCGAGCGCCTTCACGTTCTGCGACAGGTTTGCTCGAGAAACGCCCATTTCCGCAGCCGCTTTCGTGAAGCTACGATGA'},\n",
       " {'Frame': '-3', 'Start': 703, 'Stop': 698, 'Length': 6, 'ORF': 'ATGTAG'},\n",
       " {'Frame': '-3',\n",
       "  'Start': 529,\n",
       "  'Stop': 260,\n",
       "  'Length': 270,\n",
       "  'ORF': 'ATGTGTATTGGGATATCGCAGCCGACATCCACTTCCCGCCGAACTTCGACGAAGGCAAGAAATATCCCGCCATCATCAGCGCGCATCCGATCGGCAGCTGCAAGGAGCAAACATCGGGGAACGTGTATGGCGAGGCGCTGGCCAAGGAAGGTTTCGTCGTCATCGCCTTCGACGCCAGCTTCCAGGGTGCCAGCGGCGGCGAACCACGTTTTACCGAAGACCCGACACTGCGCGTCGAGGATTTCCGCGTGGTCTGCGACTACCTCGTAA'},\n",
       " {'Frame': '-3',\n",
       "  'Start': 250,\n",
       "  'Stop': 179,\n",
       "  'Length': 72,\n",
       "  'ORF': 'ATGTGGATGAAGAACGCATTGGCGTGCTGGGCATTTGCGGCGGCGGTGGCTACTCGATCAATGCAGCGATGA'},\n",
       " {'Frame': '-3',\n",
       "  'Start': 133,\n",
       "  'Stop': 122,\n",
       "  'Length': 12,\n",
       "  'ORF': 'ATGGCCGCCTGA'}]"
      ]
     },
     "execution_count": 24,
     "metadata": {},
     "output_type": "execute_result"
    }
   ],
   "source": [
    "orf(test_seq)"
   ]
  },
  {
   "cell_type": "markdown",
   "metadata": {},
   "source": [
    "### Find All ORFs with Given DNA Sequence in Each Sample"
   ]
  },
  {
   "cell_type": "code",
   "execution_count": 25,
   "metadata": {},
   "outputs": [],
   "source": [
    "myseq['orf'] = myseq.apply(lambda row: orf(row[\"DNA_Sequence\"]), axis=1)"
   ]
  },
  {
   "cell_type": "code",
   "execution_count": 26,
   "metadata": {},
   "outputs": [
    {
     "data": {
      "text/html": [
       "<div>\n",
       "<style scoped>\n",
       "    .dataframe tbody tr th:only-of-type {\n",
       "        vertical-align: middle;\n",
       "    }\n",
       "\n",
       "    .dataframe tbody tr th {\n",
       "        vertical-align: top;\n",
       "    }\n",
       "\n",
       "    .dataframe thead th {\n",
       "        text-align: right;\n",
       "    }\n",
       "</style>\n",
       "<table border=\"1\" class=\"dataframe\">\n",
       "  <thead>\n",
       "    <tr style=\"text-align: right;\">\n",
       "      <th></th>\n",
       "      <th>ID</th>\n",
       "      <th>DNA_Sequence</th>\n",
       "      <th>length</th>\n",
       "      <th>orf</th>\n",
       "    </tr>\n",
       "  </thead>\n",
       "  <tbody>\n",
       "    <tr>\n",
       "      <th>0</th>\n",
       "      <td>gi|142022655|gb|EQ086233.1|43</td>\n",
       "      <td>TCGGGCGAAGGCGGCAGCAAGTCGTCCACGCGCAGCGCGGCACCGC...</td>\n",
       "      <td>990</td>\n",
       "      <td>[{'Frame': '+1', 'Start': 73, 'Stop': 135, 'Le...</td>\n",
       "    </tr>\n",
       "    <tr>\n",
       "      <th>1</th>\n",
       "      <td>gi|142022655|gb|EQ086233.1|160</td>\n",
       "      <td>ATTGGGGAGGAGGCGAGTTGAGCGGCGGCAGTTCGCCTGCGTGCGC...</td>\n",
       "      <td>724</td>\n",
       "      <td>[{'Frame': '+1', 'Start': 136, 'Stop': 444, 'L...</td>\n",
       "    </tr>\n",
       "    <tr>\n",
       "      <th>2</th>\n",
       "      <td>gi|142022655|gb|EQ086233.1|41</td>\n",
       "      <td>GACCTTGCATCGGCTGATCGCCGAGCGTGCCGACGTATTCATTCAC...</td>\n",
       "      <td>3080</td>\n",
       "      <td>[{'Frame': '+1', 'Start': 559, 'Stop': 864, 'L...</td>\n",
       "    </tr>\n",
       "    <tr>\n",
       "      <th>3</th>\n",
       "      <td>gi|142022655|gb|EQ086233.1|221</td>\n",
       "      <td>GCCCGGCGATTTGACGTCTGCAGCCTCACGTCCAAACTCAATTTGA...</td>\n",
       "      <td>2863</td>\n",
       "      <td>[{'Frame': '+1', 'Start': 118, 'Stop': 141, 'L...</td>\n",
       "    </tr>\n",
       "    <tr>\n",
       "      <th>4</th>\n",
       "      <td>gi|142022655|gb|EQ086233.1|294</td>\n",
       "      <td>GATCAGCCCCGCATACGCGTACGCGCGTGCGACGCCGAAGAGCGTC...</td>\n",
       "      <td>3832</td>\n",
       "      <td>[{'Frame': '+1', 'Start': 538, 'Stop': 546, 'L...</td>\n",
       "    </tr>\n",
       "  </tbody>\n",
       "</table>\n",
       "</div>"
      ],
      "text/plain": [
       "                               ID  \\\n",
       "0   gi|142022655|gb|EQ086233.1|43   \n",
       "1  gi|142022655|gb|EQ086233.1|160   \n",
       "2   gi|142022655|gb|EQ086233.1|41   \n",
       "3  gi|142022655|gb|EQ086233.1|221   \n",
       "4  gi|142022655|gb|EQ086233.1|294   \n",
       "\n",
       "                                        DNA_Sequence  length  \\\n",
       "0  TCGGGCGAAGGCGGCAGCAAGTCGTCCACGCGCAGCGCGGCACCGC...     990   \n",
       "1  ATTGGGGAGGAGGCGAGTTGAGCGGCGGCAGTTCGCCTGCGTGCGC...     724   \n",
       "2  GACCTTGCATCGGCTGATCGCCGAGCGTGCCGACGTATTCATTCAC...    3080   \n",
       "3  GCCCGGCGATTTGACGTCTGCAGCCTCACGTCCAAACTCAATTTGA...    2863   \n",
       "4  GATCAGCCCCGCATACGCGTACGCGCGTGCGACGCCGAAGAGCGTC...    3832   \n",
       "\n",
       "                                                 orf  \n",
       "0  [{'Frame': '+1', 'Start': 73, 'Stop': 135, 'Le...  \n",
       "1  [{'Frame': '+1', 'Start': 136, 'Stop': 444, 'L...  \n",
       "2  [{'Frame': '+1', 'Start': 559, 'Stop': 864, 'L...  \n",
       "3  [{'Frame': '+1', 'Start': 118, 'Stop': 141, 'L...  \n",
       "4  [{'Frame': '+1', 'Start': 538, 'Stop': 546, 'L...  "
      ]
     },
     "execution_count": 26,
     "metadata": {},
     "output_type": "execute_result"
    }
   ],
   "source": [
    "myseq.head()"
   ]
  },
  {
   "cell_type": "markdown",
   "metadata": {},
   "source": [
    "### Find the Longest ORF in Each Sample"
   ]
  },
  {
   "cell_type": "code",
   "execution_count": 27,
   "metadata": {},
   "outputs": [],
   "source": [
    "def longest(orfs, frames):\n",
    "    \"\"\"\n",
    "    \n",
    "    A function to find the longest length of ORF with given DNA sequence\n",
    "    \n",
    "    Parameters\n",
    "    ----------\n",
    "    orfs: list of dict  ORFs found by using function orf\n",
    "    \n",
    "    frames: list of strings  list of interested reading frames/\n",
    "            'All'            Consider all reading frames\n",
    "    \n",
    "    Returns\n",
    "    -------\n",
    "    longest_length: int the longest length of ORF with given DNA sequence\n",
    "    \n",
    "    \"\"\"\n",
    "    longest_length = None\n",
    "    \n",
    "    # Consider all reading frames\n",
    "    if frames == 'All':\n",
    "    \n",
    "        for orf in range(len(orfs)):\n",
    "            if longest_length is None:\n",
    "                longest_length = orfs[orf]['Length']\n",
    "            elif longest_length < orfs[orf]['Length']:\n",
    "                longest_length = orfs[orf]['Length']\n",
    "                \n",
    "    # Consider part of reading frames\n",
    "    else:\n",
    "        for orf in range(len(orfs)):\n",
    "            \n",
    "            # Filter out uninterested reading frames\n",
    "            if not orfs[orf]['Frame'] in frames:\n",
    "                continue\n",
    "            \n",
    "            if longest_length is None:\n",
    "                longest_length = orfs[orf]['Length']\n",
    "            elif longest_length < orfs[orf]['Length']:\n",
    "                longest_length = orfs[orf]['Length']\n",
    "            \n",
    "    return longest_length"
   ]
  },
  {
   "cell_type": "code",
   "execution_count": 28,
   "metadata": {},
   "outputs": [
    {
     "data": {
      "text/html": [
       "<div>\n",
       "<style scoped>\n",
       "    .dataframe tbody tr th:only-of-type {\n",
       "        vertical-align: middle;\n",
       "    }\n",
       "\n",
       "    .dataframe tbody tr th {\n",
       "        vertical-align: top;\n",
       "    }\n",
       "\n",
       "    .dataframe thead th {\n",
       "        text-align: right;\n",
       "    }\n",
       "</style>\n",
       "<table border=\"1\" class=\"dataframe\">\n",
       "  <thead>\n",
       "    <tr style=\"text-align: right;\">\n",
       "      <th></th>\n",
       "      <th>ID</th>\n",
       "      <th>DNA_Sequence</th>\n",
       "      <th>length</th>\n",
       "      <th>orf</th>\n",
       "      <th>longest_len_orf</th>\n",
       "    </tr>\n",
       "  </thead>\n",
       "  <tbody>\n",
       "    <tr>\n",
       "      <th>0</th>\n",
       "      <td>gi|142022655|gb|EQ086233.1|43</td>\n",
       "      <td>TCGGGCGAAGGCGGCAGCAAGTCGTCCACGCGCAGCGCGGCACCGC...</td>\n",
       "      <td>990</td>\n",
       "      <td>[{'Frame': '+1', 'Start': 73, 'Stop': 135, 'Le...</td>\n",
       "      <td>270</td>\n",
       "    </tr>\n",
       "    <tr>\n",
       "      <th>1</th>\n",
       "      <td>gi|142022655|gb|EQ086233.1|160</td>\n",
       "      <td>ATTGGGGAGGAGGCGAGTTGAGCGGCGGCAGTTCGCCTGCGTGCGC...</td>\n",
       "      <td>724</td>\n",
       "      <td>[{'Frame': '+1', 'Start': 136, 'Stop': 444, 'L...</td>\n",
       "      <td>363</td>\n",
       "    </tr>\n",
       "    <tr>\n",
       "      <th>2</th>\n",
       "      <td>gi|142022655|gb|EQ086233.1|41</td>\n",
       "      <td>GACCTTGCATCGGCTGATCGCCGAGCGTGCCGACGTATTCATTCAC...</td>\n",
       "      <td>3080</td>\n",
       "      <td>[{'Frame': '+1', 'Start': 559, 'Stop': 864, 'L...</td>\n",
       "      <td>918</td>\n",
       "    </tr>\n",
       "    <tr>\n",
       "      <th>3</th>\n",
       "      <td>gi|142022655|gb|EQ086233.1|221</td>\n",
       "      <td>GCCCGGCGATTTGACGTCTGCAGCCTCACGTCCAAACTCAATTTGA...</td>\n",
       "      <td>2863</td>\n",
       "      <td>[{'Frame': '+1', 'Start': 118, 'Stop': 141, 'L...</td>\n",
       "      <td>744</td>\n",
       "    </tr>\n",
       "    <tr>\n",
       "      <th>4</th>\n",
       "      <td>gi|142022655|gb|EQ086233.1|294</td>\n",
       "      <td>GATCAGCCCCGCATACGCGTACGCGCGTGCGACGCCGAAGAGCGTC...</td>\n",
       "      <td>3832</td>\n",
       "      <td>[{'Frame': '+1', 'Start': 538, 'Stop': 546, 'L...</td>\n",
       "      <td>2424</td>\n",
       "    </tr>\n",
       "  </tbody>\n",
       "</table>\n",
       "</div>"
      ],
      "text/plain": [
       "                               ID  \\\n",
       "0   gi|142022655|gb|EQ086233.1|43   \n",
       "1  gi|142022655|gb|EQ086233.1|160   \n",
       "2   gi|142022655|gb|EQ086233.1|41   \n",
       "3  gi|142022655|gb|EQ086233.1|221   \n",
       "4  gi|142022655|gb|EQ086233.1|294   \n",
       "\n",
       "                                        DNA_Sequence  length  \\\n",
       "0  TCGGGCGAAGGCGGCAGCAAGTCGTCCACGCGCAGCGCGGCACCGC...     990   \n",
       "1  ATTGGGGAGGAGGCGAGTTGAGCGGCGGCAGTTCGCCTGCGTGCGC...     724   \n",
       "2  GACCTTGCATCGGCTGATCGCCGAGCGTGCCGACGTATTCATTCAC...    3080   \n",
       "3  GCCCGGCGATTTGACGTCTGCAGCCTCACGTCCAAACTCAATTTGA...    2863   \n",
       "4  GATCAGCCCCGCATACGCGTACGCGCGTGCGACGCCGAAGAGCGTC...    3832   \n",
       "\n",
       "                                                 orf  longest_len_orf  \n",
       "0  [{'Frame': '+1', 'Start': 73, 'Stop': 135, 'Le...              270  \n",
       "1  [{'Frame': '+1', 'Start': 136, 'Stop': 444, 'L...              363  \n",
       "2  [{'Frame': '+1', 'Start': 559, 'Stop': 864, 'L...              918  \n",
       "3  [{'Frame': '+1', 'Start': 118, 'Stop': 141, 'L...              744  \n",
       "4  [{'Frame': '+1', 'Start': 538, 'Stop': 546, 'L...             2424  "
      ]
     },
     "execution_count": 28,
     "metadata": {},
     "output_type": "execute_result"
    }
   ],
   "source": [
    "# Consider all reading frames in test case\n",
    "myseq['longest_len_orf'] = myseq.apply(lambda row: longest(row[\"orf\"], frames='All'), axis=1)\n",
    "myseq.head()"
   ]
  },
  {
   "cell_type": "code",
   "execution_count": 29,
   "metadata": {},
   "outputs": [
    {
     "data": {
      "text/plain": [
       "0    270\n",
       "Name: longest_len_orf, dtype: int64"
      ]
     },
     "execution_count": 29,
     "metadata": {},
     "output_type": "execute_result"
    }
   ],
   "source": [
    "# Check Correctness\n",
    "myseq[myseq['ID']=='gi|142022655|gb|EQ086233.1|43']['longest_len_orf']"
   ]
  },
  {
   "cell_type": "markdown",
   "metadata": {},
   "source": [
    "From the results of test case we computed before, the longest length of ORF with given DNA sequence in identifier, 'gi|142022655|gb|EQ086233.1|43', is 270. It is consistent with what we found here."
   ]
  },
  {
   "cell_type": "code",
   "execution_count": 30,
   "metadata": {},
   "outputs": [
    {
     "data": {
      "text/html": [
       "<div>\n",
       "<style scoped>\n",
       "    .dataframe tbody tr th:only-of-type {\n",
       "        vertical-align: middle;\n",
       "    }\n",
       "\n",
       "    .dataframe tbody tr th {\n",
       "        vertical-align: top;\n",
       "    }\n",
       "\n",
       "    .dataframe thead th {\n",
       "        text-align: right;\n",
       "    }\n",
       "</style>\n",
       "<table border=\"1\" class=\"dataframe\">\n",
       "  <thead>\n",
       "    <tr style=\"text-align: right;\">\n",
       "      <th></th>\n",
       "      <th>ID</th>\n",
       "      <th>DNA_Sequence</th>\n",
       "      <th>length</th>\n",
       "      <th>orf</th>\n",
       "      <th>longest_len_orf</th>\n",
       "      <th>longest_len_orf_forward</th>\n",
       "    </tr>\n",
       "  </thead>\n",
       "  <tbody>\n",
       "    <tr>\n",
       "      <th>0</th>\n",
       "      <td>gi|142022655|gb|EQ086233.1|43</td>\n",
       "      <td>TCGGGCGAAGGCGGCAGCAAGTCGTCCACGCGCAGCGCGGCACCGC...</td>\n",
       "      <td>990</td>\n",
       "      <td>[{'Frame': '+1', 'Start': 73, 'Stop': 135, 'Le...</td>\n",
       "      <td>270</td>\n",
       "      <td>213</td>\n",
       "    </tr>\n",
       "    <tr>\n",
       "      <th>1</th>\n",
       "      <td>gi|142022655|gb|EQ086233.1|160</td>\n",
       "      <td>ATTGGGGAGGAGGCGAGTTGAGCGGCGGCAGTTCGCCTGCGTGCGC...</td>\n",
       "      <td>724</td>\n",
       "      <td>[{'Frame': '+1', 'Start': 136, 'Stop': 444, 'L...</td>\n",
       "      <td>363</td>\n",
       "      <td>363</td>\n",
       "    </tr>\n",
       "  </tbody>\n",
       "</table>\n",
       "</div>"
      ],
      "text/plain": [
       "                               ID  \\\n",
       "0   gi|142022655|gb|EQ086233.1|43   \n",
       "1  gi|142022655|gb|EQ086233.1|160   \n",
       "\n",
       "                                        DNA_Sequence  length  \\\n",
       "0  TCGGGCGAAGGCGGCAGCAAGTCGTCCACGCGCAGCGCGGCACCGC...     990   \n",
       "1  ATTGGGGAGGAGGCGAGTTGAGCGGCGGCAGTTCGCCTGCGTGCGC...     724   \n",
       "\n",
       "                                                 orf  longest_len_orf  \\\n",
       "0  [{'Frame': '+1', 'Start': 73, 'Stop': 135, 'Le...              270   \n",
       "1  [{'Frame': '+1', 'Start': 136, 'Stop': 444, 'L...              363   \n",
       "\n",
       "   longest_len_orf_forward  \n",
       "0                      213  \n",
       "1                      363  "
      ]
     },
     "execution_count": 30,
     "metadata": {},
     "output_type": "execute_result"
    }
   ],
   "source": [
    "# Consider any forward reading frames\n",
    "frames = ['+1', '+2', '+3']\n",
    "myseq['longest_len_orf_forward'] = myseq.apply(lambda row: longest(row[\"orf\"], frames=frames), axis=1)\n",
    "myseq.head(2)"
   ]
  },
  {
   "cell_type": "code",
   "execution_count": 31,
   "metadata": {},
   "outputs": [
    {
     "data": {
      "text/plain": [
       "0    213\n",
       "Name: longest_len_orf_forward, dtype: int64"
      ]
     },
     "execution_count": 31,
     "metadata": {},
     "output_type": "execute_result"
    }
   ],
   "source": [
    "# Check Correctness\n",
    "myseq[myseq['ID']=='gi|142022655|gb|EQ086233.1|43']['longest_len_orf_forward']"
   ]
  },
  {
   "cell_type": "markdown",
   "metadata": {},
   "source": [
    "It's consistent with what we found before."
   ]
  },
  {
   "cell_type": "markdown",
   "metadata": {},
   "source": [
    "### What is the length of the longest ORF appearing in any sequence and in any forward reading frame?"
   ]
  },
  {
   "cell_type": "code",
   "execution_count": 32,
   "metadata": {},
   "outputs": [
    {
     "name": "stdout",
     "output_type": "stream",
     "text": [
      "The length of the longest ORF appearing in any sequence and in any forward reading frame is 1686.\n"
     ]
    }
   ],
   "source": [
    "df = myseq.sort_values(by='longest_len_orf_forward', ascending=False)\n",
    "print('The length of the longest ORF appearing in any sequence and in any forward reading frame is {}.'.\\\n",
    "      format(df.iloc[0,5]))"
   ]
  },
  {
   "cell_type": "markdown",
   "metadata": {},
   "source": [
    "### What is the length of the longest ORF appearing in reading frame 2 of any of the sequences?"
   ]
  },
  {
   "cell_type": "code",
   "execution_count": 33,
   "metadata": {},
   "outputs": [
    {
     "name": "stdout",
     "output_type": "stream",
     "text": [
      "The length of the longest ORF appearing in reading frame 2 of any of the sequences is 1371.0.\n"
     ]
    }
   ],
   "source": [
    "myseq['longest_len_orf_+2'] = myseq.apply(lambda row: longest(row[\"orf\"], frames=['+2']), axis=1)\n",
    "\n",
    "df = myseq.sort_values(by='longest_len_orf_+2', ascending=False)\n",
    "print('The length of the longest ORF appearing in reading frame 2 of any of the sequences is {}.'.\\\n",
    "      format(df.iloc[0,6]))"
   ]
  },
  {
   "cell_type": "markdown",
   "metadata": {},
   "source": [
    "### What is the length of the longest ORF appearing in reading frame 3 of any of the sequences?"
   ]
  },
  {
   "cell_type": "code",
   "execution_count": 34,
   "metadata": {},
   "outputs": [
    {
     "name": "stdout",
     "output_type": "stream",
     "text": [
      "The length of the longest ORF appearing in reading frame 3 of any of the sequences is 1608.0.\n"
     ]
    }
   ],
   "source": [
    "myseq['longest_len_orf_+3'] = myseq.apply(lambda row: longest(row[\"orf\"], frames=['+3']), axis=1)\n",
    "\n",
    "df = myseq.sort_values(by='longest_len_orf_+3', ascending=False)\n",
    "print('The length of the longest ORF appearing in reading frame 3 of any of the sequences is {0}.'.\\\n",
    "      format(df.iloc[0,7]))"
   ]
  },
  {
   "cell_type": "code",
   "execution_count": 35,
   "metadata": {},
   "outputs": [],
   "source": [
    "# Find the start position of the longest ORF appearing in reading frame 3 of any of the sequences\n",
    "target_dict = df.iloc[0, 3]"
   ]
  },
  {
   "cell_type": "code",
   "execution_count": 36,
   "metadata": {},
   "outputs": [
    {
     "name": "stdout",
     "output_type": "stream",
     "text": [
      "The starting position of the longest ORF in reading frame 3 in any of the sequences is 141.\n"
     ]
    }
   ],
   "source": [
    "for orf in target_dict:\n",
    "    if (orf['Frame']== '+3') and (orf['Length'] == df.iloc[0,7]):\n",
    "        print('The starting position of the longest ORF in reading frame 3 in any of the sequences is %d.' % orf['Start'])"
   ]
  },
  {
   "cell_type": "code",
   "execution_count": null,
   "metadata": {},
   "outputs": [],
   "source": []
  },
  {
   "cell_type": "code",
   "execution_count": null,
   "metadata": {},
   "outputs": [],
   "source": []
  }
 ],
 "metadata": {
  "kernelspec": {
   "display_name": "Python 3",
   "language": "python",
   "name": "python3"
  },
  "language_info": {
   "codemirror_mode": {
    "name": "ipython",
    "version": 3
   },
   "file_extension": ".py",
   "mimetype": "text/x-python",
   "name": "python",
   "nbconvert_exporter": "python",
   "pygments_lexer": "ipython3",
   "version": "3.6.7"
  }
 },
 "nbformat": 4,
 "nbformat_minor": 2
}
