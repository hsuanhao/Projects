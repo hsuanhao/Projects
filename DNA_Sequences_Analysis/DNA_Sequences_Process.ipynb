{
 "cells": [
  {
   "cell_type": "markdown",
   "metadata": {},
   "source": [
    "# DNA Sequences Process\n",
    "\n",
    "In this mini project, I wrote a Python program that takes as input a file containing DNA sequences in multi-FASTA format, and make queries. "
   ]
  },
  {
   "cell_type": "code",
   "execution_count": 12,
   "metadata": {},
   "outputs": [],
   "source": [
    "# file to open\n",
    "filename = 'dna.example.fasta'\n",
    "\n",
    "try:\n",
    "    fhandle = open(filename)\n",
    "except IOError:\n",
    "    print('The file %s does not exist !!' % filename)"
   ]
  },
  {
   "cell_type": "code",
   "execution_count": 13,
   "metadata": {},
   "outputs": [],
   "source": [
    "# Put sequences in the dictionary with key=\n",
    "seqs = {}\n",
    "\n",
    "for line in fhandle:\n",
    "    # let's discard the newline at the end (if any)\n",
    "    line = line.rstrip()\n",
    "    #print(line)\n",
    "    \n",
    "    #distinguish header from sequence\n",
    "    if line[0] == '>': \n",
    "        words = line.split()\n",
    "        name = words[0][1:]\n",
    "        seqs[name]=''\n",
    "    else: # sequence, not header\n",
    "        seqs[name] = seqs[name] + line    "
   ]
  },
  {
   "cell_type": "markdown",
   "metadata": {},
   "source": [
    "Note that a record in a FASTA file is defined as a single-line header, followed by lines of sequence data. The header line is distinguished from the sequence data by a greater-than (\">\") symbol in the first column. The word following the \">\" symbol is the identifier of the sequence, and the rest of the line is an optional description of the entry. There should be no space between the \">\" and the first letter of the identifier."
   ]
  },
  {
   "cell_type": "code",
   "execution_count": 14,
   "metadata": {},
   "outputs": [
    {
     "name": "stdout",
     "output_type": "stream",
     "text": [
      "There are 25 records in dna.example.fasta.\n"
     ]
    }
   ],
   "source": [
    "# Check how many records are in the file\n",
    "print(\"There are {0} records in {1}.\".format(len(seqs), filename))"
   ]
  },
  {
   "cell_type": "code",
   "execution_count": 17,
   "metadata": {},
   "outputs": [
    {
     "data": {
      "text/plain": [
       "dict_keys(['gi|142022655|gb|EQ086233.1|43', 'gi|142022655|gb|EQ086233.1|160', 'gi|142022655|gb|EQ086233.1|41', 'gi|142022655|gb|EQ086233.1|221', 'gi|142022655|gb|EQ086233.1|294', 'gi|142022655|gb|EQ086233.1|323', 'gi|142022655|gb|EQ086233.1|564', 'gi|142022655|gb|EQ086233.1|521', 'gi|142022655|gb|EQ086233.1|455', 'gi|142022655|gb|EQ086233.1|229', 'gi|142022655|gb|EQ086233.1|422', 'gi|142022655|gb|EQ086233.1|384', 'gi|142022655|gb|EQ086233.1|280', 'gi|142022655|gb|EQ086233.1|158', 'gi|142022655|gb|EQ086233.1|59', 'gi|142022655|gb|EQ086233.1|319', 'gi|142022655|gb|EQ086233.1|438', 'gi|142022655|gb|EQ086233.1|210', 'gi|142022655|gb|EQ086233.1|237', 'gi|142022655|gb|EQ086233.1|507', 'gi|142022655|gb|EQ086233.1|350', 'gi|142022655|gb|EQ086233.1|245', 'gi|142022655|gb|EQ086233.1|279', 'gi|142022655|gb|EQ086233.1|378', 'gi|142022655|gb|EQ086233.1|101'])"
      ]
     },
     "execution_count": 17,
     "metadata": {},
     "output_type": "execute_result"
    }
   ],
   "source": [
    "seqs.keys()"
   ]
  },
  {
   "cell_type": "code",
   "execution_count": null,
   "metadata": {},
   "outputs": [],
   "source": []
  }
 ],
 "metadata": {
  "kernelspec": {
   "display_name": "Python 3",
   "language": "python",
   "name": "python3"
  },
  "language_info": {
   "codemirror_mode": {
    "name": "ipython",
    "version": 3
   },
   "file_extension": ".py",
   "mimetype": "text/x-python",
   "name": "python",
   "nbconvert_exporter": "python",
   "pygments_lexer": "ipython3",
   "version": "3.6.4"
  }
 },
 "nbformat": 4,
 "nbformat_minor": 2
}
