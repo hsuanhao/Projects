{
 "cells": [
  {
   "cell_type": "markdown",
   "metadata": {},
   "source": [
    "# Predicting House Prices by Simple Linear Regression\n",
    "\n",
    "In this notebook, I will use data on house sales in King County, where Seattle is located, to predict house prices by using simple (one feature) linear regression."
   ]
  },
  {
   "cell_type": "code",
   "execution_count": 1,
   "metadata": {},
   "outputs": [],
   "source": [
    "# Import libraries to use\n",
    "import numpy as np\n",
    "import pandas as pd\n",
    "import os\n",
    "from sklearn.model_selection import train_test_split\n",
    "import Regression\n",
    "\n",
    "# To plot pretty figures\n",
    "%matplotlib inline\n",
    "import matplotlib\n",
    "import matplotlib.pyplot as plt\n",
    "import seaborn as sns"
   ]
  },
  {
   "cell_type": "markdown",
   "metadata": {},
   "source": [
    "## 1. Load  Data"
   ]
  },
  {
   "cell_type": "code",
   "execution_count": 2,
   "metadata": {},
   "outputs": [
    {
     "data": {
      "text/html": [
       "<div>\n",
       "<style scoped>\n",
       "    .dataframe tbody tr th:only-of-type {\n",
       "        vertical-align: middle;\n",
       "    }\n",
       "\n",
       "    .dataframe tbody tr th {\n",
       "        vertical-align: top;\n",
       "    }\n",
       "\n",
       "    .dataframe thead th {\n",
       "        text-align: right;\n",
       "    }\n",
       "</style>\n",
       "<table border=\"1\" class=\"dataframe\">\n",
       "  <thead>\n",
       "    <tr style=\"text-align: right;\">\n",
       "      <th></th>\n",
       "      <th>0</th>\n",
       "      <th>1</th>\n",
       "      <th>2</th>\n",
       "      <th>3</th>\n",
       "      <th>4</th>\n",
       "      <th>5</th>\n",
       "      <th>6</th>\n",
       "      <th>7</th>\n",
       "      <th>8</th>\n",
       "      <th>9</th>\n",
       "      <th>...</th>\n",
       "      <th>17374</th>\n",
       "      <th>17375</th>\n",
       "      <th>17376</th>\n",
       "      <th>17377</th>\n",
       "      <th>17378</th>\n",
       "      <th>17379</th>\n",
       "      <th>17380</th>\n",
       "      <th>17381</th>\n",
       "      <th>17382</th>\n",
       "      <th>17383</th>\n",
       "    </tr>\n",
       "  </thead>\n",
       "  <tbody>\n",
       "    <tr>\n",
       "      <th>id</th>\n",
       "      <td>7129300520</td>\n",
       "      <td>6414100192</td>\n",
       "      <td>5631500400</td>\n",
       "      <td>2487200875</td>\n",
       "      <td>1954400510</td>\n",
       "      <td>7237550310</td>\n",
       "      <td>1321400060</td>\n",
       "      <td>2008000270</td>\n",
       "      <td>2414600126</td>\n",
       "      <td>3793500160</td>\n",
       "      <td>...</td>\n",
       "      <td>0249000205</td>\n",
       "      <td>5100403806</td>\n",
       "      <td>0844000965</td>\n",
       "      <td>7852140040</td>\n",
       "      <td>9834201367</td>\n",
       "      <td>7936000429</td>\n",
       "      <td>2997800021</td>\n",
       "      <td>0263000018</td>\n",
       "      <td>0291310100</td>\n",
       "      <td>1523300157</td>\n",
       "    </tr>\n",
       "    <tr>\n",
       "      <th>date</th>\n",
       "      <td>20141013T000000</td>\n",
       "      <td>20141209T000000</td>\n",
       "      <td>20150225T000000</td>\n",
       "      <td>20141209T000000</td>\n",
       "      <td>20150218T000000</td>\n",
       "      <td>20140512T000000</td>\n",
       "      <td>20140627T000000</td>\n",
       "      <td>20150115T000000</td>\n",
       "      <td>20150415T000000</td>\n",
       "      <td>20150312T000000</td>\n",
       "      <td>...</td>\n",
       "      <td>20141015T000000</td>\n",
       "      <td>20150407T000000</td>\n",
       "      <td>20140626T000000</td>\n",
       "      <td>20140825T000000</td>\n",
       "      <td>20150126T000000</td>\n",
       "      <td>20150326T000000</td>\n",
       "      <td>20150219T000000</td>\n",
       "      <td>20140521T000000</td>\n",
       "      <td>20150116T000000</td>\n",
       "      <td>20141015T000000</td>\n",
       "    </tr>\n",
       "    <tr>\n",
       "      <th>price</th>\n",
       "      <td>221900</td>\n",
       "      <td>538000</td>\n",
       "      <td>180000</td>\n",
       "      <td>604000</td>\n",
       "      <td>510000</td>\n",
       "      <td>1.225e+06</td>\n",
       "      <td>257500</td>\n",
       "      <td>291850</td>\n",
       "      <td>229500</td>\n",
       "      <td>323000</td>\n",
       "      <td>...</td>\n",
       "      <td>1.537e+06</td>\n",
       "      <td>467000</td>\n",
       "      <td>224000</td>\n",
       "      <td>507250</td>\n",
       "      <td>429000</td>\n",
       "      <td>1.0075e+06</td>\n",
       "      <td>475000</td>\n",
       "      <td>360000</td>\n",
       "      <td>400000</td>\n",
       "      <td>325000</td>\n",
       "    </tr>\n",
       "    <tr>\n",
       "      <th>bedrooms</th>\n",
       "      <td>3</td>\n",
       "      <td>3</td>\n",
       "      <td>2</td>\n",
       "      <td>4</td>\n",
       "      <td>3</td>\n",
       "      <td>4</td>\n",
       "      <td>3</td>\n",
       "      <td>3</td>\n",
       "      <td>3</td>\n",
       "      <td>3</td>\n",
       "      <td>...</td>\n",
       "      <td>5</td>\n",
       "      <td>3</td>\n",
       "      <td>3</td>\n",
       "      <td>3</td>\n",
       "      <td>3</td>\n",
       "      <td>4</td>\n",
       "      <td>3</td>\n",
       "      <td>3</td>\n",
       "      <td>3</td>\n",
       "      <td>2</td>\n",
       "    </tr>\n",
       "    <tr>\n",
       "      <th>bathrooms</th>\n",
       "      <td>1</td>\n",
       "      <td>2.25</td>\n",
       "      <td>1</td>\n",
       "      <td>3</td>\n",
       "      <td>2</td>\n",
       "      <td>4.5</td>\n",
       "      <td>2.25</td>\n",
       "      <td>1.5</td>\n",
       "      <td>1</td>\n",
       "      <td>2.5</td>\n",
       "      <td>...</td>\n",
       "      <td>3.75</td>\n",
       "      <td>2.5</td>\n",
       "      <td>1.75</td>\n",
       "      <td>2.5</td>\n",
       "      <td>2</td>\n",
       "      <td>3.5</td>\n",
       "      <td>2.5</td>\n",
       "      <td>2.5</td>\n",
       "      <td>2.5</td>\n",
       "      <td>0.75</td>\n",
       "    </tr>\n",
       "    <tr>\n",
       "      <th>sqft_living</th>\n",
       "      <td>1180</td>\n",
       "      <td>2570</td>\n",
       "      <td>770</td>\n",
       "      <td>1960</td>\n",
       "      <td>1680</td>\n",
       "      <td>5420</td>\n",
       "      <td>1715</td>\n",
       "      <td>1060</td>\n",
       "      <td>1780</td>\n",
       "      <td>1890</td>\n",
       "      <td>...</td>\n",
       "      <td>4470</td>\n",
       "      <td>1425</td>\n",
       "      <td>1500</td>\n",
       "      <td>2270</td>\n",
       "      <td>1490</td>\n",
       "      <td>3510</td>\n",
       "      <td>1310</td>\n",
       "      <td>1530</td>\n",
       "      <td>1600</td>\n",
       "      <td>1020</td>\n",
       "    </tr>\n",
       "    <tr>\n",
       "      <th>sqft_lot</th>\n",
       "      <td>5650</td>\n",
       "      <td>7242</td>\n",
       "      <td>10000</td>\n",
       "      <td>5000</td>\n",
       "      <td>8080</td>\n",
       "      <td>101930</td>\n",
       "      <td>6819</td>\n",
       "      <td>9711</td>\n",
       "      <td>7470</td>\n",
       "      <td>6560</td>\n",
       "      <td>...</td>\n",
       "      <td>8088</td>\n",
       "      <td>1179</td>\n",
       "      <td>11968</td>\n",
       "      <td>5536</td>\n",
       "      <td>1126</td>\n",
       "      <td>7200</td>\n",
       "      <td>1294</td>\n",
       "      <td>1131</td>\n",
       "      <td>2388</td>\n",
       "      <td>1076</td>\n",
       "    </tr>\n",
       "    <tr>\n",
       "      <th>floors</th>\n",
       "      <td>1</td>\n",
       "      <td>2</td>\n",
       "      <td>1</td>\n",
       "      <td>1</td>\n",
       "      <td>1</td>\n",
       "      <td>1</td>\n",
       "      <td>2</td>\n",
       "      <td>1</td>\n",
       "      <td>1</td>\n",
       "      <td>2</td>\n",
       "      <td>...</td>\n",
       "      <td>2</td>\n",
       "      <td>3</td>\n",
       "      <td>1</td>\n",
       "      <td>2</td>\n",
       "      <td>3</td>\n",
       "      <td>2</td>\n",
       "      <td>2</td>\n",
       "      <td>3</td>\n",
       "      <td>2</td>\n",
       "      <td>2</td>\n",
       "    </tr>\n",
       "    <tr>\n",
       "      <th>waterfront</th>\n",
       "      <td>0</td>\n",
       "      <td>0</td>\n",
       "      <td>0</td>\n",
       "      <td>0</td>\n",
       "      <td>0</td>\n",
       "      <td>0</td>\n",
       "      <td>0</td>\n",
       "      <td>0</td>\n",
       "      <td>0</td>\n",
       "      <td>0</td>\n",
       "      <td>...</td>\n",
       "      <td>0</td>\n",
       "      <td>0</td>\n",
       "      <td>0</td>\n",
       "      <td>0</td>\n",
       "      <td>0</td>\n",
       "      <td>0</td>\n",
       "      <td>0</td>\n",
       "      <td>0</td>\n",
       "      <td>0</td>\n",
       "      <td>0</td>\n",
       "    </tr>\n",
       "    <tr>\n",
       "      <th>view</th>\n",
       "      <td>0</td>\n",
       "      <td>0</td>\n",
       "      <td>0</td>\n",
       "      <td>0</td>\n",
       "      <td>0</td>\n",
       "      <td>0</td>\n",
       "      <td>0</td>\n",
       "      <td>0</td>\n",
       "      <td>0</td>\n",
       "      <td>0</td>\n",
       "      <td>...</td>\n",
       "      <td>0</td>\n",
       "      <td>0</td>\n",
       "      <td>0</td>\n",
       "      <td>0</td>\n",
       "      <td>0</td>\n",
       "      <td>0</td>\n",
       "      <td>0</td>\n",
       "      <td>0</td>\n",
       "      <td>0</td>\n",
       "      <td>0</td>\n",
       "    </tr>\n",
       "    <tr>\n",
       "      <th>condition</th>\n",
       "      <td>3</td>\n",
       "      <td>3</td>\n",
       "      <td>3</td>\n",
       "      <td>5</td>\n",
       "      <td>3</td>\n",
       "      <td>3</td>\n",
       "      <td>3</td>\n",
       "      <td>3</td>\n",
       "      <td>3</td>\n",
       "      <td>3</td>\n",
       "      <td>...</td>\n",
       "      <td>3</td>\n",
       "      <td>3</td>\n",
       "      <td>3</td>\n",
       "      <td>3</td>\n",
       "      <td>3</td>\n",
       "      <td>3</td>\n",
       "      <td>3</td>\n",
       "      <td>3</td>\n",
       "      <td>3</td>\n",
       "      <td>3</td>\n",
       "    </tr>\n",
       "    <tr>\n",
       "      <th>grade</th>\n",
       "      <td>7</td>\n",
       "      <td>7</td>\n",
       "      <td>6</td>\n",
       "      <td>7</td>\n",
       "      <td>8</td>\n",
       "      <td>11</td>\n",
       "      <td>7</td>\n",
       "      <td>7</td>\n",
       "      <td>7</td>\n",
       "      <td>7</td>\n",
       "      <td>...</td>\n",
       "      <td>11</td>\n",
       "      <td>8</td>\n",
       "      <td>6</td>\n",
       "      <td>8</td>\n",
       "      <td>8</td>\n",
       "      <td>9</td>\n",
       "      <td>8</td>\n",
       "      <td>8</td>\n",
       "      <td>8</td>\n",
       "      <td>7</td>\n",
       "    </tr>\n",
       "    <tr>\n",
       "      <th>sqft_above</th>\n",
       "      <td>1180</td>\n",
       "      <td>2170</td>\n",
       "      <td>770</td>\n",
       "      <td>1050</td>\n",
       "      <td>1680</td>\n",
       "      <td>3890</td>\n",
       "      <td>1715</td>\n",
       "      <td>1060</td>\n",
       "      <td>1050</td>\n",
       "      <td>1890</td>\n",
       "      <td>...</td>\n",
       "      <td>4470</td>\n",
       "      <td>1425</td>\n",
       "      <td>1500</td>\n",
       "      <td>2270</td>\n",
       "      <td>1490</td>\n",
       "      <td>2600</td>\n",
       "      <td>1180</td>\n",
       "      <td>1530</td>\n",
       "      <td>1600</td>\n",
       "      <td>1020</td>\n",
       "    </tr>\n",
       "    <tr>\n",
       "      <th>sqft_basement</th>\n",
       "      <td>0</td>\n",
       "      <td>400</td>\n",
       "      <td>0</td>\n",
       "      <td>910</td>\n",
       "      <td>0</td>\n",
       "      <td>1530</td>\n",
       "      <td>0</td>\n",
       "      <td>0</td>\n",
       "      <td>730</td>\n",
       "      <td>0</td>\n",
       "      <td>...</td>\n",
       "      <td>0</td>\n",
       "      <td>0</td>\n",
       "      <td>0</td>\n",
       "      <td>0</td>\n",
       "      <td>0</td>\n",
       "      <td>910</td>\n",
       "      <td>130</td>\n",
       "      <td>0</td>\n",
       "      <td>0</td>\n",
       "      <td>0</td>\n",
       "    </tr>\n",
       "    <tr>\n",
       "      <th>yr_built</th>\n",
       "      <td>1955</td>\n",
       "      <td>1951</td>\n",
       "      <td>1933</td>\n",
       "      <td>1965</td>\n",
       "      <td>1987</td>\n",
       "      <td>2001</td>\n",
       "      <td>1995</td>\n",
       "      <td>1963</td>\n",
       "      <td>1960</td>\n",
       "      <td>2003</td>\n",
       "      <td>...</td>\n",
       "      <td>2008</td>\n",
       "      <td>2008</td>\n",
       "      <td>2014</td>\n",
       "      <td>2003</td>\n",
       "      <td>2014</td>\n",
       "      <td>2009</td>\n",
       "      <td>2008</td>\n",
       "      <td>2009</td>\n",
       "      <td>2004</td>\n",
       "      <td>2008</td>\n",
       "    </tr>\n",
       "    <tr>\n",
       "      <th>yr_renovated</th>\n",
       "      <td>0</td>\n",
       "      <td>1991</td>\n",
       "      <td>0</td>\n",
       "      <td>0</td>\n",
       "      <td>0</td>\n",
       "      <td>0</td>\n",
       "      <td>0</td>\n",
       "      <td>0</td>\n",
       "      <td>0</td>\n",
       "      <td>0</td>\n",
       "      <td>...</td>\n",
       "      <td>0</td>\n",
       "      <td>0</td>\n",
       "      <td>0</td>\n",
       "      <td>0</td>\n",
       "      <td>0</td>\n",
       "      <td>0</td>\n",
       "      <td>0</td>\n",
       "      <td>0</td>\n",
       "      <td>0</td>\n",
       "      <td>0</td>\n",
       "    </tr>\n",
       "    <tr>\n",
       "      <th>zipcode</th>\n",
       "      <td>98178</td>\n",
       "      <td>98125</td>\n",
       "      <td>98028</td>\n",
       "      <td>98136</td>\n",
       "      <td>98074</td>\n",
       "      <td>98053</td>\n",
       "      <td>98003</td>\n",
       "      <td>98198</td>\n",
       "      <td>98146</td>\n",
       "      <td>98038</td>\n",
       "      <td>...</td>\n",
       "      <td>98004</td>\n",
       "      <td>98125</td>\n",
       "      <td>98010</td>\n",
       "      <td>98065</td>\n",
       "      <td>98144</td>\n",
       "      <td>98136</td>\n",
       "      <td>98116</td>\n",
       "      <td>98103</td>\n",
       "      <td>98027</td>\n",
       "      <td>98144</td>\n",
       "    </tr>\n",
       "    <tr>\n",
       "      <th>lat</th>\n",
       "      <td>47.5112</td>\n",
       "      <td>47.721</td>\n",
       "      <td>47.7379</td>\n",
       "      <td>47.5208</td>\n",
       "      <td>47.6168</td>\n",
       "      <td>47.6561</td>\n",
       "      <td>47.3097</td>\n",
       "      <td>47.4095</td>\n",
       "      <td>47.5123</td>\n",
       "      <td>47.3684</td>\n",
       "      <td>...</td>\n",
       "      <td>47.6321</td>\n",
       "      <td>47.6963</td>\n",
       "      <td>47.3095</td>\n",
       "      <td>47.5389</td>\n",
       "      <td>47.5699</td>\n",
       "      <td>47.5537</td>\n",
       "      <td>47.5773</td>\n",
       "      <td>47.6993</td>\n",
       "      <td>47.5345</td>\n",
       "      <td>47.5941</td>\n",
       "    </tr>\n",
       "    <tr>\n",
       "      <th>long</th>\n",
       "      <td>-122.257</td>\n",
       "      <td>-122.319</td>\n",
       "      <td>-122.233</td>\n",
       "      <td>-122.393</td>\n",
       "      <td>-122.045</td>\n",
       "      <td>-122.005</td>\n",
       "      <td>-122.327</td>\n",
       "      <td>-122.315</td>\n",
       "      <td>-122.337</td>\n",
       "      <td>-122.031</td>\n",
       "      <td>...</td>\n",
       "      <td>-122.2</td>\n",
       "      <td>-122.318</td>\n",
       "      <td>-122.002</td>\n",
       "      <td>-121.881</td>\n",
       "      <td>-122.288</td>\n",
       "      <td>-122.398</td>\n",
       "      <td>-122.409</td>\n",
       "      <td>-122.346</td>\n",
       "      <td>-122.069</td>\n",
       "      <td>-122.299</td>\n",
       "    </tr>\n",
       "    <tr>\n",
       "      <th>sqft_living15</th>\n",
       "      <td>1340</td>\n",
       "      <td>1690</td>\n",
       "      <td>2720</td>\n",
       "      <td>1360</td>\n",
       "      <td>1800</td>\n",
       "      <td>4760</td>\n",
       "      <td>2238</td>\n",
       "      <td>1650</td>\n",
       "      <td>1780</td>\n",
       "      <td>2390</td>\n",
       "      <td>...</td>\n",
       "      <td>2780</td>\n",
       "      <td>1285</td>\n",
       "      <td>1320</td>\n",
       "      <td>2270</td>\n",
       "      <td>1400</td>\n",
       "      <td>2050</td>\n",
       "      <td>1330</td>\n",
       "      <td>1530</td>\n",
       "      <td>1410</td>\n",
       "      <td>1020</td>\n",
       "    </tr>\n",
       "    <tr>\n",
       "      <th>sqft_lot15</th>\n",
       "      <td>5650</td>\n",
       "      <td>7639</td>\n",
       "      <td>8062</td>\n",
       "      <td>5000</td>\n",
       "      <td>7503</td>\n",
       "      <td>101930</td>\n",
       "      <td>6819</td>\n",
       "      <td>9711</td>\n",
       "      <td>8113</td>\n",
       "      <td>7570</td>\n",
       "      <td>...</td>\n",
       "      <td>8964</td>\n",
       "      <td>1253</td>\n",
       "      <td>11303</td>\n",
       "      <td>5731</td>\n",
       "      <td>1230</td>\n",
       "      <td>6200</td>\n",
       "      <td>1265</td>\n",
       "      <td>1509</td>\n",
       "      <td>1287</td>\n",
       "      <td>1357</td>\n",
       "    </tr>\n",
       "  </tbody>\n",
       "</table>\n",
       "<p>21 rows × 17384 columns</p>\n",
       "</div>"
      ],
      "text/plain": [
       "                         0                1                2      \\\n",
       "id                  7129300520       6414100192       5631500400   \n",
       "date           20141013T000000  20141209T000000  20150225T000000   \n",
       "price                   221900           538000           180000   \n",
       "bedrooms                     3                3                2   \n",
       "bathrooms                    1             2.25                1   \n",
       "sqft_living               1180             2570              770   \n",
       "sqft_lot                  5650             7242            10000   \n",
       "floors                       1                2                1   \n",
       "waterfront                   0                0                0   \n",
       "view                         0                0                0   \n",
       "condition                    3                3                3   \n",
       "grade                        7                7                6   \n",
       "sqft_above                1180             2170              770   \n",
       "sqft_basement                0              400                0   \n",
       "yr_built                  1955             1951             1933   \n",
       "yr_renovated                 0             1991                0   \n",
       "zipcode                  98178            98125            98028   \n",
       "lat                    47.5112           47.721          47.7379   \n",
       "long                  -122.257         -122.319         -122.233   \n",
       "sqft_living15             1340             1690             2720   \n",
       "sqft_lot15                5650             7639             8062   \n",
       "\n",
       "                         3                4                5      \\\n",
       "id                  2487200875       1954400510       7237550310   \n",
       "date           20141209T000000  20150218T000000  20140512T000000   \n",
       "price                   604000           510000        1.225e+06   \n",
       "bedrooms                     4                3                4   \n",
       "bathrooms                    3                2              4.5   \n",
       "sqft_living               1960             1680             5420   \n",
       "sqft_lot                  5000             8080           101930   \n",
       "floors                       1                1                1   \n",
       "waterfront                   0                0                0   \n",
       "view                         0                0                0   \n",
       "condition                    5                3                3   \n",
       "grade                        7                8               11   \n",
       "sqft_above                1050             1680             3890   \n",
       "sqft_basement              910                0             1530   \n",
       "yr_built                  1965             1987             2001   \n",
       "yr_renovated                 0                0                0   \n",
       "zipcode                  98136            98074            98053   \n",
       "lat                    47.5208          47.6168          47.6561   \n",
       "long                  -122.393         -122.045         -122.005   \n",
       "sqft_living15             1360             1800             4760   \n",
       "sqft_lot15                5000             7503           101930   \n",
       "\n",
       "                         6                7                8      \\\n",
       "id                  1321400060       2008000270       2414600126   \n",
       "date           20140627T000000  20150115T000000  20150415T000000   \n",
       "price                   257500           291850           229500   \n",
       "bedrooms                     3                3                3   \n",
       "bathrooms                 2.25              1.5                1   \n",
       "sqft_living               1715             1060             1780   \n",
       "sqft_lot                  6819             9711             7470   \n",
       "floors                       2                1                1   \n",
       "waterfront                   0                0                0   \n",
       "view                         0                0                0   \n",
       "condition                    3                3                3   \n",
       "grade                        7                7                7   \n",
       "sqft_above                1715             1060             1050   \n",
       "sqft_basement                0                0              730   \n",
       "yr_built                  1995             1963             1960   \n",
       "yr_renovated                 0                0                0   \n",
       "zipcode                  98003            98198            98146   \n",
       "lat                    47.3097          47.4095          47.5123   \n",
       "long                  -122.327         -122.315         -122.337   \n",
       "sqft_living15             2238             1650             1780   \n",
       "sqft_lot15                6819             9711             8113   \n",
       "\n",
       "                         9      ...            17374            17375  \\\n",
       "id                  3793500160  ...       0249000205       5100403806   \n",
       "date           20150312T000000  ...  20141015T000000  20150407T000000   \n",
       "price                   323000  ...        1.537e+06           467000   \n",
       "bedrooms                     3  ...                5                3   \n",
       "bathrooms                  2.5  ...             3.75              2.5   \n",
       "sqft_living               1890  ...             4470             1425   \n",
       "sqft_lot                  6560  ...             8088             1179   \n",
       "floors                       2  ...                2                3   \n",
       "waterfront                   0  ...                0                0   \n",
       "view                         0  ...                0                0   \n",
       "condition                    3  ...                3                3   \n",
       "grade                        7  ...               11                8   \n",
       "sqft_above                1890  ...             4470             1425   \n",
       "sqft_basement                0  ...                0                0   \n",
       "yr_built                  2003  ...             2008             2008   \n",
       "yr_renovated                 0  ...                0                0   \n",
       "zipcode                  98038  ...            98004            98125   \n",
       "lat                    47.3684  ...          47.6321          47.6963   \n",
       "long                  -122.031  ...           -122.2         -122.318   \n",
       "sqft_living15             2390  ...             2780             1285   \n",
       "sqft_lot15                7570  ...             8964             1253   \n",
       "\n",
       "                         17376            17377            17378  \\\n",
       "id                  0844000965       7852140040       9834201367   \n",
       "date           20140626T000000  20140825T000000  20150126T000000   \n",
       "price                   224000           507250           429000   \n",
       "bedrooms                     3                3                3   \n",
       "bathrooms                 1.75              2.5                2   \n",
       "sqft_living               1500             2270             1490   \n",
       "sqft_lot                 11968             5536             1126   \n",
       "floors                       1                2                3   \n",
       "waterfront                   0                0                0   \n",
       "view                         0                0                0   \n",
       "condition                    3                3                3   \n",
       "grade                        6                8                8   \n",
       "sqft_above                1500             2270             1490   \n",
       "sqft_basement                0                0                0   \n",
       "yr_built                  2014             2003             2014   \n",
       "yr_renovated                 0                0                0   \n",
       "zipcode                  98010            98065            98144   \n",
       "lat                    47.3095          47.5389          47.5699   \n",
       "long                  -122.002         -121.881         -122.288   \n",
       "sqft_living15             1320             2270             1400   \n",
       "sqft_lot15               11303             5731             1230   \n",
       "\n",
       "                         17379            17380            17381  \\\n",
       "id                  7936000429       2997800021       0263000018   \n",
       "date           20150326T000000  20150219T000000  20140521T000000   \n",
       "price               1.0075e+06           475000           360000   \n",
       "bedrooms                     4                3                3   \n",
       "bathrooms                  3.5              2.5              2.5   \n",
       "sqft_living               3510             1310             1530   \n",
       "sqft_lot                  7200             1294             1131   \n",
       "floors                       2                2                3   \n",
       "waterfront                   0                0                0   \n",
       "view                         0                0                0   \n",
       "condition                    3                3                3   \n",
       "grade                        9                8                8   \n",
       "sqft_above                2600             1180             1530   \n",
       "sqft_basement              910              130                0   \n",
       "yr_built                  2009             2008             2009   \n",
       "yr_renovated                 0                0                0   \n",
       "zipcode                  98136            98116            98103   \n",
       "lat                    47.5537          47.5773          47.6993   \n",
       "long                  -122.398         -122.409         -122.346   \n",
       "sqft_living15             2050             1330             1530   \n",
       "sqft_lot15                6200             1265             1509   \n",
       "\n",
       "                         17382            17383  \n",
       "id                  0291310100       1523300157  \n",
       "date           20150116T000000  20141015T000000  \n",
       "price                   400000           325000  \n",
       "bedrooms                     3                2  \n",
       "bathrooms                  2.5             0.75  \n",
       "sqft_living               1600             1020  \n",
       "sqft_lot                  2388             1076  \n",
       "floors                       2                2  \n",
       "waterfront                   0                0  \n",
       "view                         0                0  \n",
       "condition                    3                3  \n",
       "grade                        8                7  \n",
       "sqft_above                1600             1020  \n",
       "sqft_basement                0                0  \n",
       "yr_built                  2004             2008  \n",
       "yr_renovated                 0                0  \n",
       "zipcode                  98027            98144  \n",
       "lat                    47.5345          47.5941  \n",
       "long                  -122.069         -122.299  \n",
       "sqft_living15             1410             1020  \n",
       "sqft_lot15                1287             1357  \n",
       "\n",
       "[21 rows x 17384 columns]"
      ]
     },
     "metadata": {},
     "output_type": "display_data"
    }
   ],
   "source": [
    "# Load the data\n",
    "sales_train = pd.read_csv(\"dataset/kc_house_train_data.csv\", dtype = {'bathrooms':float, 'waterfront':int, 'sqft_above':int, 'sqft_living15':float, 'grade':int, 'yr_renovated':int, 'price':float, 'bedrooms':float, 'zipcode':str, 'long':float, 'sqft_lot15':float, 'sqft_living':float, 'floors':str, 'condition':int, 'lat':float, 'date':str, 'sqft_basement':int, 'yr_built':int, 'id':str, 'sqft_lot':int, 'view':int}\n",
    ")\n",
    "sales_test = pd.read_csv(\"dataset/kc_house_test_data.csv\", dtype = {'bathrooms':float, 'waterfront':int, 'sqft_above':int, 'sqft_living15':float, 'grade':int, 'yr_renovated':int, 'price':float, 'bedrooms':float, 'zipcode':str, 'long':float, 'sqft_lot15':float, 'sqft_living':float, 'floors':str, 'condition':int, 'lat':float, 'date':str, 'sqft_basement':int, 'yr_built':int, 'id':str, 'sqft_lot':int, 'view':int}\n",
    ")\n",
    "display(sales_train.T)"
   ]
  },
  {
   "cell_type": "code",
   "execution_count": 3,
   "metadata": {},
   "outputs": [
    {
     "name": "stdout",
     "output_type": "stream",
     "text": [
      "kc_house_train_data.csv has 17384 training samples, and kc_house_test_data.csv has 4229 test samples\n"
     ]
    }
   ],
   "source": [
    "print('kc_house_train_data.csv has {} training samples, \\\n",
    "and kc_house_test_data.csv has {} test samples'.format(sales_train['id'].count(), sales_test['id'].count()))"
   ]
  },
  {
   "cell_type": "code",
   "execution_count": 4,
   "metadata": {},
   "outputs": [
    {
     "name": "stdout",
     "output_type": "stream",
     "text": [
      "id                object\n",
      "date              object\n",
      "price            float64\n",
      "bedrooms         float64\n",
      "bathrooms        float64\n",
      "sqft_living      float64\n",
      "sqft_lot           int64\n",
      "floors            object\n",
      "waterfront         int64\n",
      "view               int64\n",
      "condition          int64\n",
      "grade              int64\n",
      "sqft_above         int64\n",
      "sqft_basement      int64\n",
      "yr_built           int64\n",
      "yr_renovated       int64\n",
      "zipcode           object\n",
      "lat              float64\n",
      "long             float64\n",
      "sqft_living15    float64\n",
      "sqft_lot15       float64\n",
      "dtype: object\n"
     ]
    }
   ],
   "source": [
    "print(sales_train.dtypes)"
   ]
  },
  {
   "cell_type": "code",
   "execution_count": 5,
   "metadata": {},
   "outputs": [
    {
     "data": {
      "text/plain": [
       "id               0\n",
       "date             0\n",
       "price            0\n",
       "bedrooms         0\n",
       "bathrooms        0\n",
       "sqft_living      0\n",
       "sqft_lot         0\n",
       "floors           0\n",
       "waterfront       0\n",
       "view             0\n",
       "condition        0\n",
       "grade            0\n",
       "sqft_above       0\n",
       "sqft_basement    0\n",
       "yr_built         0\n",
       "yr_renovated     0\n",
       "zipcode          0\n",
       "lat              0\n",
       "long             0\n",
       "sqft_living15    0\n",
       "sqft_lot15       0\n",
       "dtype: int64"
      ]
     },
     "execution_count": 5,
     "metadata": {},
     "output_type": "execute_result"
    }
   ],
   "source": [
    "# Check whether there are Null values in training set\n",
    "sales_train.isnull().sum()"
   ]
  },
  {
   "cell_type": "code",
   "execution_count": 6,
   "metadata": {},
   "outputs": [
    {
     "data": {
      "text/plain": [
       "id               0\n",
       "date             0\n",
       "price            0\n",
       "bedrooms         0\n",
       "bathrooms        0\n",
       "sqft_living      0\n",
       "sqft_lot         0\n",
       "floors           0\n",
       "waterfront       0\n",
       "view             0\n",
       "condition        0\n",
       "grade            0\n",
       "sqft_above       0\n",
       "sqft_basement    0\n",
       "yr_built         0\n",
       "yr_renovated     0\n",
       "zipcode          0\n",
       "lat              0\n",
       "long             0\n",
       "sqft_living15    0\n",
       "sqft_lot15       0\n",
       "dtype: int64"
      ]
     },
     "execution_count": 6,
     "metadata": {},
     "output_type": "execute_result"
    }
   ],
   "source": [
    "# Check whether there are Null values in training set\n",
    "sales_test.isnull().sum()"
   ]
  },
  {
   "cell_type": "markdown",
   "metadata": {},
   "source": [
    "Hence, there are no NULL values in training and test sets."
   ]
  },
  {
   "cell_type": "markdown",
   "metadata": {},
   "source": [
    "## 2. Exploring the data\n",
    "\n",
    "In order to study the relations between numeric features of interest and price, we draw correlation heatmaps in the following."
   ]
  },
  {
   "cell_type": "code",
   "execution_count": 7,
   "metadata": {},
   "outputs": [
    {
     "data": {
      "text/plain": [
       "<matplotlib.axes._subplots.AxesSubplot at 0x7fd91d4a7748>"
      ]
     },
     "execution_count": 7,
     "metadata": {},
     "output_type": "execute_result"
    },
    {
     "data": {
      "image/png": "[encoded data removed]",
      "text/plain": [
       "<Figure size 432x288 with 2 Axes>"
      ]
     },
     "metadata": {
      "needs_background": "light"
     },
     "output_type": "display_data"
    }
   ],
   "source": [
    "# Calculate correlations\n",
    "features = ['price','bedrooms', 'bathrooms', 'sqft_living', 'sqft_lot', 'floors', 'condition', 'sqft_above', 'sqft_basement']\n",
    "corr = sales_train[features].corr()\n",
    "\n",
    "# Heatmap\n",
    "sns.heatmap(corr, annot=True)"
   ]
  },
  {
   "cell_type": "markdown",
   "metadata": {},
   "source": [
    "From above correlation heatmaps, `price` has the highest positive correlation with size of house, or `sqft_living` so let's plot a scatter plot for price vs. sqft_living below."
   ]
  },
  {
   "cell_type": "code",
   "execution_count": 8,
   "metadata": {},
   "outputs": [
    {
     "data": {
      "image/png": "[encoded data removed]",
      "text/plain": [
       "<Figure size 432x288 with 1 Axes>"
      ]
     },
     "metadata": {
      "needs_background": "light"
     },
     "output_type": "display_data"
    }
   ],
   "source": [
    "# Plot price vs sqft_living\n",
    "plt.scatter(sales_train['sqft_living'],sales_train['price'])\n",
    "plt.xlabel('sqft_living')\n",
    "plt.ylabel('price')\n",
    "plt.show()"
   ]
  },
  {
   "cell_type": "markdown",
   "metadata": {},
   "source": [
    "From above figure, we can see that the `price` has linear dependence with `sqft_living` so we will apply **simple linear regression model** by considering one feature, `sqft_living`. Also note that there ia a high leverage point with sqft_living around 14000. We will examine whether this point is an influential point later. That is, this point will affect the resulting linear fit strongly. We will discuss it further in the following."
   ]
  },
  {
   "cell_type": "markdown",
   "metadata": {},
   "source": [
    "## 3. Computing Linear Regression Parameters by Closed Form\n",
    "\n",
    "The cost function of linear regression is defined as\n",
    "\n",
    "$$ J = \\frac{1}{N}\\sum_{i=1}^N (y_i - (b + w x_i))^2 $$\n",
    "\n",
    "so the gradient of $J$ leads to\n",
    "\n",
    "$$ \\nabla_{\\bf w} J = \n",
    "\\begin{bmatrix}\n",
    "-\\frac{1}{N}\\sum_{i=1}^N (y_i - (b + w x_i))\\\\\n",
    "-\\frac{1}{N}\\sum_{i=1}^N (y_i - (b + w x_i))x_i\n",
    "\\end{bmatrix} . \\tag{1}$$\n",
    "\n",
    "To minimize the cost function $J$, we require\n",
    "\n",
    "$$\\nabla_{\\bf w} J = 0 $$\n",
    "\n",
    "Hence, the first element in above matrix (1) leads to \n",
    "\n",
    "$$ -\\frac{1}{N}\\sum_{i=1}^N (y_i - (b + w x_i)) =0 \\Rightarrow -\\bar{y} + b + w \\bar{x} = 0  $$ \n",
    "$$\\boxed{ b = \\bar{y} - w \\bar{x} } \\tag{2}$$\n",
    "\n",
    "where $\\bar{x} \\equiv \\frac{1}{N}\\sum_{i=1}^N x_i$, the average of $x$ and, similarly, $\\bar{y} \\equiv \\frac{1}{N}\\sum_{i=1}^N y_i$, the average of $y$.\n",
    "\n",
    "By using (2), we can eliminate $b$ in the second equation in (1). The second element in above matrix results in\n",
    "\n",
    "$$ -\\frac{1}{N}\\sum_{i=1}^N (y_i - (b + w x_i))x_i =0 \\Rightarrow -\\bar{xy} + b \\bar{x} + w \\bar{x^2} = 0 $$\n",
    "$$ \\boxed{ w = \\frac{\\bar{x}\\bar{y} - \\bar{xy}}{\\bar{x}^2 - \\bar{x^2}} } \\tag{3}$$\n",
    "\n",
    "where $\\bar{xy} \\equiv \\frac{1}{N} \\sum_{i=1}^N x_i y_i$ and $\\bar{x^2} \\equiv \\frac{1}{N} \\sum_{i=1}^N x_i^2$. \n",
    "\n",
    "Therefore, we only need to calculate $\\bar{y}$, $\\bar{x}$, $\\bar{x^2}$, and $\\bar{xy}$.\n",
    "\n",
    "Note that ($\\bar{x}, \\bar{y}$) is always a solution to the simple linear regression model. That is, **($\\bar{x}, \\bar{y}$) is always located on the linear line we obtained.** We can prove it easily in the following:\n",
    "\n",
    "$$ \\hat{y} = b + w x = (\\bar{y} - w \\bar{x}) + w x $$\n",
    "Here, $\\hat{y}$ is the predicted output from the model, and we have used the relation we obtained in (2), $b = \\bar{y} - w \\bar{x}$. Hence, when $x = \\bar{x}$, we can get $\\hat{y} = \\bar{y}$.\n",
    "\n"
   ]
  },
  {
   "cell_type": "code",
   "execution_count": 9,
   "metadata": {},
   "outputs": [],
   "source": [
    "# Convert dataframe into numpy array\n",
    "X_train = np.c_[sales_train['sqft_living']]\n",
    "Y_train = np.c_[sales_train['price']]"
   ]
  },
  {
   "cell_type": "code",
   "execution_count": 10,
   "metadata": {},
   "outputs": [],
   "source": [
    "# Calculate linear regression parameters by closed form in (2) and (3)\n",
    "\n",
    "# Create an object\n",
    "model_exact = Regression.ExactLinearRegression()"
   ]
  },
  {
   "cell_type": "code",
   "execution_count": 11,
   "metadata": {},
   "outputs": [],
   "source": [
    "# fit data to get parameters\n",
    "parameters_exact = model_exact.simple_linear_regression(X_train, Y_train)"
   ]
  },
  {
   "cell_type": "code",
   "execution_count": 12,
   "metadata": {},
   "outputs": [],
   "source": [
    "# By using fitting parameters we obtained, predict house price with given sqft_living\n",
    "predictions_exact = model_exact.predict(X_train, parameters_exact)"
   ]
  },
  {
   "cell_type": "code",
   "execution_count": 13,
   "metadata": {},
   "outputs": [
    {
     "data": {
      "image/png": "[encoded data removed]",
      "text/plain": [
       "<Figure size 432x288 with 1 Axes>"
      ]
     },
     "metadata": {
      "needs_background": "light"
     },
     "output_type": "display_data"
    }
   ],
   "source": [
    "# Plot \n",
    "model_exact.plot(X_train, Y_train, predictions_exact, parameters_exact, xlabel='sqft_living', ylabel='price')"
   ]
  },
  {
   "cell_type": "markdown",
   "metadata": {},
   "source": [
    "### Check whether high leverage point is an influential point\n",
    "\n",
    "If the high leverage point is an influential point, we'd better to remove this outlier to construct our model so let's check it."
   ]
  },
  {
   "cell_type": "code",
   "execution_count": 17,
   "metadata": {},
   "outputs": [
    {
     "data": {
      "text/html": [
       "<div>\n",
       "<style scoped>\n",
       "    .dataframe tbody tr th:only-of-type {\n",
       "        vertical-align: middle;\n",
       "    }\n",
       "\n",
       "    .dataframe tbody tr th {\n",
       "        vertical-align: top;\n",
       "    }\n",
       "\n",
       "    .dataframe thead th {\n",
       "        text-align: right;\n",
       "    }\n",
       "</style>\n",
       "<table border=\"1\" class=\"dataframe\">\n",
       "  <thead>\n",
       "    <tr style=\"text-align: right;\">\n",
       "      <th></th>\n",
       "      <th>id</th>\n",
       "      <th>date</th>\n",
       "      <th>price</th>\n",
       "      <th>bedrooms</th>\n",
       "      <th>bathrooms</th>\n",
       "      <th>sqft_living</th>\n",
       "      <th>sqft_lot</th>\n",
       "      <th>floors</th>\n",
       "      <th>waterfront</th>\n",
       "      <th>view</th>\n",
       "      <th>...</th>\n",
       "      <th>grade</th>\n",
       "      <th>sqft_above</th>\n",
       "      <th>sqft_basement</th>\n",
       "      <th>yr_built</th>\n",
       "      <th>yr_renovated</th>\n",
       "      <th>zipcode</th>\n",
       "      <th>lat</th>\n",
       "      <th>long</th>\n",
       "      <th>sqft_living15</th>\n",
       "      <th>sqft_lot15</th>\n",
       "    </tr>\n",
       "  </thead>\n",
       "  <tbody>\n",
       "    <tr>\n",
       "      <th>10285</th>\n",
       "      <td>1225069038</td>\n",
       "      <td>20140505T000000</td>\n",
       "      <td>2280000.0</td>\n",
       "      <td>7.0</td>\n",
       "      <td>8.0</td>\n",
       "      <td>13540.0</td>\n",
       "      <td>307752</td>\n",
       "      <td>3</td>\n",
       "      <td>0</td>\n",
       "      <td>4</td>\n",
       "      <td>...</td>\n",
       "      <td>12</td>\n",
       "      <td>9410</td>\n",
       "      <td>4130</td>\n",
       "      <td>1999</td>\n",
       "      <td>0</td>\n",
       "      <td>98053</td>\n",
       "      <td>47.6675</td>\n",
       "      <td>-121.986</td>\n",
       "      <td>4850.0</td>\n",
       "      <td>217800.0</td>\n",
       "    </tr>\n",
       "  </tbody>\n",
       "</table>\n",
       "<p>1 rows × 21 columns</p>\n",
       "</div>"
      ],
      "text/plain": [
       "               id             date      price  bedrooms  bathrooms  \\\n",
       "10285  1225069038  20140505T000000  2280000.0       7.0        8.0   \n",
       "\n",
       "       sqft_living  sqft_lot floors  waterfront  view  ...  grade  sqft_above  \\\n",
       "10285      13540.0    307752      3           0     4  ...     12        9410   \n",
       "\n",
       "       sqft_basement  yr_built  yr_renovated  zipcode      lat     long  \\\n",
       "10285           4130      1999             0    98053  47.6675 -121.986   \n",
       "\n",
       "       sqft_living15  sqft_lot15  \n",
       "10285         4850.0    217800.0  \n",
       "\n",
       "[1 rows x 21 columns]"
      ]
     },
     "execution_count": 17,
     "metadata": {},
     "output_type": "execute_result"
    }
   ],
   "source": [
    "# Find the high leverage point\n",
    "sales_train[sales_train['sqft_living']>13000]"
   ]
  },
  {
   "cell_type": "code",
   "execution_count": 18,
   "metadata": {},
   "outputs": [],
   "source": [
    "# Remove the high leverage point\n",
    "sales_train_new = sales_train[sales_train['sqft_living']<13000]"
   ]
  },
  {
   "cell_type": "code",
   "execution_count": 19,
   "metadata": {},
   "outputs": [],
   "source": [
    "# Convert dataframe into numpy array\n",
    "X_train_new = np.c_[sales_train_new['sqft_living']]\n",
    "Y_train_new = np.c_[sales_train_new['price']]"
   ]
  },
  {
   "cell_type": "code",
   "execution_count": 20,
   "metadata": {},
   "outputs": [],
   "source": [
    "# fit data to get parameters\n",
    "parameters_exact_new = model_exact.simple_linear_regression(X_train_new, Y_train_new)"
   ]
  },
  {
   "cell_type": "code",
   "execution_count": 21,
   "metadata": {},
   "outputs": [],
   "source": [
    "# By using fitting parameters we obtained, predict house price with given sqft_living\n",
    "predictions_exact_new = model_exact.predict(X_train_new, parameters_exact_new)"
   ]
  },
  {
   "cell_type": "code",
   "execution_count": 22,
   "metadata": {},
   "outputs": [
    {
     "data": {
      "image/png": "[encoded data removed]",
      "text/plain": [
       "<Figure size 432x288 with 1 Axes>"
      ]
     },
     "metadata": {
      "needs_background": "light"
     },
     "output_type": "display_data"
    }
   ],
   "source": [
    "# Plot \n",
    "model_exact.plot(X_train_new, Y_train_new, predictions_exact_new, parameters_exact_new, xlabel='sqft_living', ylabel='price')"
   ]
  },
  {
   "cell_type": "markdown",
   "metadata": {},
   "source": [
    "It seems that removing the high leverage point doesn't change the slope a lot. The change of the slope is 1.167. It may not affect the predicted house price a lot when `sqft_living` is small. But when `sqft_living` is large, it will have huge difference. Let's consider the following case."
   ]
  },
  {
   "cell_type": "markdown",
   "metadata": {},
   "source": [
    "### Predict House Price with Given Squarefeet\n",
    "\n",
    "Now we can calculate a prediction given the slope ($w$) and intercept ($b$). We find out the estimated price for a house with 2650 squarefeet according to the squarefeet model we estiamted above."
   ]
  },
  {
   "cell_type": "code",
   "execution_count": 32,
   "metadata": {},
   "outputs": [
    {
     "data": {
      "text/plain": [
       "700074.8459475139"
      ]
     },
     "execution_count": 32,
     "metadata": {},
     "output_type": "execute_result"
    }
   ],
   "source": [
    "# Predict house pricing with given 2650 squarefeet by using model without removing the outlier\n",
    "model_exact.predict(2650.0, parameters_exact)"
   ]
  },
  {
   "cell_type": "code",
   "execution_count": 33,
   "metadata": {},
   "outputs": [
    {
     "data": {
      "text/plain": [
       "700826.7399176478"
      ]
     },
     "execution_count": 33,
     "metadata": {},
     "output_type": "execute_result"
    }
   ],
   "source": [
    "# Predict house pricing with given 2650 squarefeet by using model with removing the outlier\n",
    "model_exact.predict(2650.0, parameters_exact_new)"
   ]
  },
  {
   "cell_type": "markdown",
   "metadata": {},
   "source": [
    "In this case, the difference of predicted house price for a house with 2650 squarefeet is about 752 dollars.\n",
    "\n",
    "Now let's consider the house with larger squarefeet, say 6000 squarefeet. "
   ]
  },
  {
   "cell_type": "code",
   "execution_count": 35,
   "metadata": {},
   "outputs": [
    {
     "data": {
      "text/plain": [
       "1644636.9587091627"
      ]
     },
     "execution_count": 35,
     "metadata": {},
     "output_type": "execute_result"
    }
   ],
   "source": [
    "# Predict house pricing with given 6000 squarefeet by using model without removing the outlier\n",
    "model_exact.predict(6000.0, parameters_exact)"
   ]
  },
  {
   "cell_type": "code",
   "execution_count": 36,
   "metadata": {},
   "outputs": [
    {
     "data": {
      "text/plain": [
       "1649299.5837971224"
      ]
     },
     "execution_count": 36,
     "metadata": {},
     "output_type": "execute_result"
    }
   ],
   "source": [
    "# Predict house pricing with given 6000 squarefeet by using model with removing the outlier\n",
    "model_exact.predict(6000.0, parameters_exact_new)"
   ]
  },
  {
   "cell_type": "markdown",
   "metadata": {},
   "source": [
    "Then we can see that the difference of house price is about 4663 dolars! "
   ]
  },
  {
   "cell_type": "markdown",
   "metadata": {},
   "source": [
    "### Predict the Squarefeet with Given Price\n",
    "\n",
    "What if we want to predict the squarefoot given the price? Since we have an equation $y = b + w*x$, we can solve the function for $x$ such that if we have the intercept ($b$) and the slope ($w$) and the price ($y$), we can solve for the estimated squarefeet ($x$).\n",
    "\n",
    "$$ x = (y-b)/w .$$\n",
    "\n",
    "Now we can compute the squarefeet with given the price from our simple linear regression model so let's see how big we might expect a house that costs $800,000 to be"
   ]
  },
  {
   "cell_type": "code",
   "execution_count": 41,
   "metadata": {},
   "outputs": [
    {
     "name": "stdout",
     "output_type": "stream",
     "text": [
      "The estimated squarefeet for a house worth $800000 is 3000.279318400915.\n"
     ]
    }
   ],
   "source": [
    "my_house_price = 800000\n",
    "estimated_squarefeet = model_exact.inverse_regression_predictions(my_house_price, parameters_exact_new)\n",
    "print(\"The estimated squarefeet for a house worth ${} is {}.\".format( my_house_price, estimated_squarefeet) )"
   ]
  },
  {
   "cell_type": "markdown",
   "metadata": {},
   "source": [
    "## 4. New Model: Estimate Prices From Bedrooms\n",
    "\n",
    "We have made one model for predicting house prices using squarefeet, but there are many other features. As we have seen in correlation heatmap, the bedrooms is the second highest positive correlation with prices. Hence, we now consider the estimation of price from bedrooms instead. "
   ]
  },
  {
   "cell_type": "code",
   "execution_count": 17,
   "metadata": {},
   "outputs": [],
   "source": [
    "# Estimate the slope and intercept for predicting 'price' based on 'bedrooms'\n",
    "# Convert dataframe into numpy array\n",
    "X_train_bed = np.c_[sales_train['bedrooms']]\n",
    "Y_train_bed = np.c_[sales_train['price']]"
   ]
  },
  {
   "cell_type": "code",
   "execution_count": 18,
   "metadata": {},
   "outputs": [],
   "source": [
    "# Create an object\n",
    "model_bed = Regression.ExactLinearRegression()\n",
    "\n",
    "# fit data to get parameters\n",
    "parameters_bed = model_bed.simple_linear_regression(X_train_bed, Y_train_bed)\n",
    "\n",
    "# By using fitting parameters we obtained, predict house price with given bedrooms\n",
    "predictions_bed = model_bed.predict(X_train_bed, parameters_bed)"
   ]
  },
  {
   "cell_type": "code",
   "execution_count": 19,
   "metadata": {},
   "outputs": [
    {
     "data": {
      "image/png": "[encoded data removed]",
      "text/plain": [
       "<Figure size 432x288 with 1 Axes>"
      ]
     },
     "metadata": {},
     "output_type": "display_data"
    }
   ],
   "source": [
    "# Plot \n",
    "model_bed.plot(X_train_bed, Y_train_bed, predictions_bed, parameters_bed, xlabel='bedrooms', ylabel='price')"
   ]
  },
  {
   "cell_type": "markdown",
   "metadata": {},
   "source": [
    "### Evaluate Model by Residual Sum of Squares\n",
    "\n",
    "Now we have a model and can make predictions so let's evaluate our model by using **Residual Sum of Squares (RSS)**. Recall that RSS is the sum of the squares of the residuals and the residuals is just a fancy word for the difference between the predicted output and the true output. \n",
    "\n",
    "$$ RSS \\equiv \\sum_{i=1}^N (y_i - (b + w x_i))^2 \\tag{4}$$\n",
    "\n",
    "**Reference**\n",
    "[Residual sum of squares](https://en.wikipedia.org/wiki/Residual_sum_of_squares)"
   ]
  },
  {
   "cell_type": "code",
   "execution_count": 37,
   "metadata": {},
   "outputs": [
    {
     "name": "stdout",
     "output_type": "stream",
     "text": [
      "RSS = 1.202e+15\n"
     ]
    }
   ],
   "source": [
    "# Evaluate model by RSS\n",
    "RSS1 = model_exact.scores(Y_train, predictions_exact)\n",
    "print(\"RSS = %1.3e\" % RSS1)"
   ]
  },
  {
   "cell_type": "markdown",
   "metadata": {},
   "source": [
    "RSS for the simple linear regression using squarefeet to predict prices on **TRAINING data with outlier** is $1.202 \\times 10^{15}$."
   ]
  },
  {
   "cell_type": "code",
   "execution_count": 39,
   "metadata": {},
   "outputs": [
    {
     "name": "stdout",
     "output_type": "stream",
     "text": [
      "RSS = 1.200e+15\n"
     ]
    }
   ],
   "source": [
    "# Evaluate model by RSS\n",
    "RSS1_new = model_exact.scores(Y_train_new, predictions_exact_new)\n",
    "print(\"RSS = %1.3e\" % RSS1_new)"
   ]
  },
  {
   "cell_type": "markdown",
   "metadata": {},
   "source": [
    "RSS for the simple linear regression using squarefeet to predict prices on **TRAINING data without outlier** is $1.200 \\times 10^{15}$. "
   ]
  },
  {
   "cell_type": "code",
   "execution_count": 20,
   "metadata": {},
   "outputs": [
    {
     "name": "stdout",
     "output_type": "stream",
     "text": [
      "RSS = 2.143e+15\n"
     ]
    }
   ],
   "source": [
    "# Evaluate model by RSS\n",
    "RSS2 = model_bed.scores(Y_train_bed, predictions_bed)\n",
    "print(\"RSS = %1.3e\" % RSS2)"
   ]
  },
  {
   "cell_type": "markdown",
   "metadata": {},
   "source": [
    "From above figure, we can see that price is not linearly dependent on bedrooms although they are highly positive correlated. Hence, this new model has much higher residual sum of squares for training data."
   ]
  },
  {
   "cell_type": "markdown",
   "metadata": {},
   "source": [
    "## 5. Test Linear Regression Algorithm\n",
    "\n",
    "Now we have two models for predicting the price of a house. How do we know which one is better? Calculate the RSS on the TEST data (recall that this data wasn't involved in learning the model). Compute the RSS from predicting prices using bedrooms and from predicting prices using squarefeet."
   ]
  },
  {
   "cell_type": "code",
   "execution_count": 21,
   "metadata": {},
   "outputs": [
    {
     "name": "stdout",
     "output_type": "stream",
     "text": [
      "RSS when using bedrooms on TEST data = 4.934e+14\n"
     ]
    }
   ],
   "source": [
    "# Compute RSS when using bedrooms on TEST data:\n",
    "\n",
    "# Convert dataframe into numpy array\n",
    "X_test_bed = np.c_[sales_test['bedrooms']]\n",
    "Y_test_bed = np.c_[sales_test['price']]\n",
    "\n",
    "# By using fitting parameters we obtained, predict house price with given bedrooms\n",
    "predictions_test_bed = model_bed.predict(X_test_bed, parameters_bed)\n",
    "\n",
    "# Evaluate model by RSS\n",
    "RSS3 = model_bed.scores(Y_test_bed, predictions_test_bed)\n",
    "print(\"RSS when using bedrooms on TEST data = %1.3e\" % RSS3)"
   ]
  },
  {
   "cell_type": "code",
   "execution_count": 22,
   "metadata": {},
   "outputs": [
    {
     "name": "stdout",
     "output_type": "stream",
     "text": [
      "RSS when using sqft_living on TEST data = 2.754e+14\n"
     ]
    }
   ],
   "source": [
    "# Compute RSS when using squarefeet on TEST data:\n",
    "\n",
    "# Convert dataframe into numpy array\n",
    "X_test_sqft = np.c_[sales_test['sqft_living']]\n",
    "Y_test_sqft = np.c_[sales_test['price']]\n",
    "\n",
    "# By using fitting parameters we obtained, predict house price with given bedrooms\n",
    "predictions_test_sqft = model_exact.predict(X_test_sqft, parameters_exact)\n",
    "\n",
    "# Evaluate model by RSS\n",
    "RSS4 = model_exact.scores(Y_test_sqft, predictions_test_sqft)\n",
    "print(\"RSS when using sqft_living on TEST data = %1.3e\" % RSS4)"
   ]
  },
  {
   "cell_type": "markdown",
   "metadata": {},
   "source": [
    "Hecne, the model (square feet) has the lowest RSS on TEST data. This is consistent with the observation in previous section. "
   ]
  },
  {
   "cell_type": "code",
   "execution_count": null,
   "metadata": {},
   "outputs": [],
   "source": []
  },
  {
   "cell_type": "code",
   "execution_count": null,
   "metadata": {},
   "outputs": [],
   "source": []
  }
 ],
 "metadata": {
  "kernelspec": {
   "display_name": "Python 3",
   "language": "python",
   "name": "python3"
  },
  "language_info": {
   "codemirror_mode": {
    "name": "ipython",
    "version": 3
   },
   "file_extension": ".py",
   "mimetype": "text/x-python",
   "name": "python",
   "nbconvert_exporter": "python",
   "pygments_lexer": "ipython3",
   "version": "3.6.7"
  }
 },
 "nbformat": 4,
 "nbformat_minor": 2
}
